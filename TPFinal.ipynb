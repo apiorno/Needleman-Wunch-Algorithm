{
 "cells": [
  {
   "cell_type": "code",
   "execution_count": 1,
   "id": "b546c7a4-e7f8-4299-a23a-43bdd13a2f26",
   "metadata": {},
   "outputs": [],
   "source": [
    "import numpy as np\n",
    "from Bio import pairwise2, SeqIO\n",
    "from enum import Enum\n",
    "import random\n",
    "import copy"
   ]
  },
  {
   "cell_type": "code",
   "execution_count": 2,
   "id": "23bb5a8f-def1-478e-b964-22cacd76e43d",
   "metadata": {},
   "outputs": [],
   "source": [
    "class op(Enum):\n",
    "    GAP_A = 1\n",
    "    GAP_B = 2\n",
    "    MA_MM = 3"
   ]
  },
  {
   "cell_type": "code",
   "execution_count": 3,
   "id": "fb7c062d-75db-492f-995f-414ea82bf85b",
   "metadata": {},
   "outputs": [
    {
     "data": {
      "text/plain": [
       "array([[ 1, -1, -1, -1],\n",
       "       [-1,  1, -1, -1],\n",
       "       [-1, -1,  1, -1],\n",
       "       [-1, -1, -1,  1]])"
      ]
     },
     "execution_count": 3,
     "metadata": {},
     "output_type": "execute_result"
    }
   ],
   "source": [
    "score_mtx = np.repeat(-1, (4) * (4)).reshape(4, 4)\n",
    "for i in range(0,4):\n",
    "    score_mtx[i][i]=1\n",
    "score_mtx"
   ]
  },
  {
   "cell_type": "code",
   "execution_count": 4,
   "id": "c8da55b1-644b-480a-919b-a2a9abb34696",
   "metadata": {},
   "outputs": [],
   "source": [
    "def traceback(ops_matrix, seqA, seqB):\n",
    "    seqA_alineada = []\n",
    "    seqB_alineada = []\n",
    "    i = len(seqA)\n",
    "    j = len(seqB)\n",
    "    while i > 0 or j > 0:\n",
    "        if ops_matrix[i, j] == op.GAP_A.value:\n",
    "            seqA_alineada.append(\"-\")\n",
    "            seqB_alineada.append(seqB[j -1])\n",
    "            j -= 1\n",
    "        elif ops_matrix[i, j] == op.GAP_B.value:\n",
    "            seqB_alineada.append(\"-\")\n",
    "            seqA_alineada.append(seqA[i -1])\n",
    "            i -= 1\n",
    "        else: # es decir, match / mismatch\n",
    "            i -= 1\n",
    "            j -= 1\n",
    "            seqA_alineada.append(seqA[i -1])\n",
    "            seqB_alineada.append(seqB[j -1])\n",
    "            \n",
    "    seqA_alineada = seqA_alineada[::-1]\n",
    "    seqB_alineada = seqB_alineada[::-1]\n",
    "    \n",
    "    return seqA_alineada, seqB_alineada"
   ]
  },
  {
   "cell_type": "code",
   "execution_count": 5,
   "id": "91d5e481-0fff-4e4c-881c-91a8c9d4f9a2",
   "metadata": {},
   "outputs": [],
   "source": [
    "def parseNucleotide(nucleotide):\n",
    "    switcher = {\n",
    "        'A': 0,\n",
    "        'T': 1,\n",
    "        'G': 2,\n",
    "        'C': 3\n",
    "    }\n",
    "    return switcher.get(nucleotide,\"Invalid nucleotide\")"
   ]
  },
  {
   "cell_type": "code",
   "execution_count": 6,
   "id": "de960ce1-133d-4c57-b56a-2ce9abaf959d",
   "metadata": {},
   "outputs": [],
   "source": [
    "def get_score(score_mtx,characterA,characterB):\n",
    "        indexA = parseNucleotide(characterA)\n",
    "        indexB = parseNucleotide(characterB)\n",
    "        return score_mtx[indexA,indexB]"
   ]
  },
  {
   "cell_type": "code",
   "execution_count": 7,
   "id": "ad9de732-289a-4bb5-a508-59c7c739fc2f",
   "metadata": {},
   "outputs": [],
   "source": [
    "class Profile:\n",
    "    def __init__(self):\n",
    "        self.alignment_dashboard = {\"A\":{},\"T\":{},\"G\":{},\"C\":{},\"-\":{}}\n",
    "        self.score=0\n",
    "        self.elems_per_col=0\n",
    "        self.size = 0\n",
    "        self.seqs = []\n",
    "\n",
    "    def calculate_score_at(self,index,score_matrix,gap_score):\n",
    "        nucleotides = []\n",
    "        score = 0\n",
    "        for seq in self.seqs:\n",
    "            nucleotides.append(seq[index])\n",
    "        for x in range(len(nucleotides)):\n",
    "            for y in range(x+1,len(nucleotides)):\n",
    "                first= nucleotides[x]\n",
    "                second= nucleotides[y]\n",
    "                if not (first == \"-\" and second == \"-\"):\n",
    "                    if first == \"-\" or second == \"-\":\n",
    "                        score+=gap_score\n",
    "                    else:\n",
    "                        score+= get_score(score_matrix,first,second)\n",
    "        return score\n",
    "                        \n",
    "                \n",
    "    def columnAt(self,index):\n",
    "        a = self.alignment_at(\"A\",index)\n",
    "        t = self.alignment_at(\"T\",index)\n",
    "        g = self.alignment_at(\"G\",index)\n",
    "        c = self.alignment_at(\"C\",index)\n",
    "        gap = self.alignment_at(\"-\",index)\n",
    "        return {\"A\":a,\"T\":t,\"G\":g,\"C\":c,\"-\":gap}\n",
    "    def alignment_at(self,nucleotide,index):\n",
    "        res = 0\n",
    "        try:\n",
    "            res =self.alignment_dashboard[nucleotide][index]\n",
    "        except KeyError:\n",
    "            return res\n",
    "        return res\n",
    "    def traceback(self,ops_matrix,seq):\n",
    "        gaps_profile=[]\n",
    "        seq_alineada = []\n",
    "        i = len(seq)\n",
    "        j = self.size\n",
    "        while i > 0 or j > 0:\n",
    "            if ops_matrix[i, j] == op.GAP_A.value:\n",
    "                seq_alineada.append(\"-\")\n",
    "                j -= 1\n",
    "            elif ops_matrix[i, j] == op.GAP_B.value:\n",
    "                gaps_profile.append(j -1)\n",
    "                seq_alineada.append(seq[i -1])\n",
    "                i -= 1\n",
    "            else: # es decir, match / mismatch\n",
    "                i -= 1\n",
    "                j -= 1\n",
    "                seq_alineada.append(seq[i])\n",
    "            \n",
    "        seq_alineada = seq_alineada[::-1]\n",
    "\n",
    "        return seq_alineada,gaps_profile\n",
    "        \n",
    "    def apply_gaps(self,gaps_positions):\n",
    "        self.alignment_dashboard = {\"A\":{},\"T\":{},\"G\":{},\"C\":{},\"-\":{}}\n",
    "        self.size=0\n",
    "        self.elems_per_col=0\n",
    "        new_aligned_seq=[]\n",
    "        for seq in self.seqs:\n",
    "            aligned_seq=[]\n",
    "            for index in range(len(seq)):\n",
    "                if index in gaps_positions:\n",
    "                    aligned_seq.append(\"-\")\n",
    "                aligned_seq.append(seq[index])\n",
    "            #self.add_seq(aligned_seq,self.score)\n",
    "            \n",
    "            new_aligned_seq.append(aligned_seq) \n",
    "        self.seqs=[]\n",
    "        for seq in new_aligned_seq:\n",
    "            self.add_seq(seq,self.score)\n",
    "    def add_seq(self,aligned_sequense,score):\n",
    "        for index in range(len(aligned_sequense)):\n",
    "            actual_character = aligned_sequense[index]\n",
    "            \n",
    "            try:\n",
    "                actual_charater_count = self.alignment_dashboard[actual_character][index]\n",
    "            except KeyError:\n",
    "                self.alignment_dashboard[actual_character][index] = 0\n",
    "                actual_charater_count = self.alignment_dashboard[actual_character][index] \n",
    "            self.alignment_dashboard[actual_character][index] = actual_charater_count + 1\n",
    "            self.size = max(self.size, len(aligned_sequense))\n",
    "        self.seqs.append( aligned_sequense)   \n",
    "        self.elems_per_col+=1\n",
    "        self.score = score\n",
    "    "
   ]
  },
  {
   "cell_type": "code",
   "execution_count": 8,
   "id": "be7e060a-e80b-47e6-859f-35053b246181",
   "metadata": {},
   "outputs": [],
   "source": [
    "def nw_basic(seqA_str, seqB_str, score_mtx, gap_score = 0):\n",
    "    sizeA = len(seqA_str)\n",
    "    sizeB = len(seqB_str)\n",
    "    sol_matrix = np.repeat(0, (sizeA+1) * (sizeB+1)).reshape(sizeA+1, sizeB+1)\n",
    "    ops_matrix = np.repeat(0, (sizeA+1) * (sizeB+1)).reshape(sizeA+1, sizeB+1)\n",
    "    \n",
    "    for i in range(1,sizeA+1):\n",
    "        for j in range(1,sizeB+1):\n",
    "            \n",
    "            diagonal_score = get_score(score_mtx,seqA_str[i-1],seqB_str[j-1])\n",
    "            diagonal_result = sol_matrix[i-1][j-1] + diagonal_score\n",
    "            left_result = sol_matrix[i][j-1] + gap_score\n",
    "            above_result = sol_matrix[i-1][j] + gap_score\n",
    "            results = [diagonal_result,left_result,above_result]\n",
    "            result_index = np.argmax(results)\n",
    "            if result_index == 0:\n",
    "                sol_matrix[i][j] = diagonal_result\n",
    "                ops_matrix[i][j] = op.MA_MM.value\n",
    "            elif result_index == 1:\n",
    "                sol_matrix[i][j] = left_result\n",
    "                ops_matrix[i][j] = op.GAP_A.value\n",
    "            else:\n",
    "                sol_matrix[i][j] = above_result\n",
    "                ops_matrix[i][j] = op.GAP_B.value\n",
    "\n",
    "    aln_a, aln_b = traceback(ops_matrix,seqA_str,seqB_str)\n",
    "    profile = Profile()\n",
    "    profile.add_seq(aln_a,sol_matrix[sizeA, sizeB])\n",
    "    profile.add_seq(aln_b,sol_matrix[sizeA, sizeB])\n",
    "    \n",
    "    return profile"
   ]
  },
  {
   "cell_type": "code",
   "execution_count": 9,
   "id": "08f33aa1-4f08-499b-be02-635b5a4bc3af",
   "metadata": {},
   "outputs": [],
   "source": [
    "def nw_msa(seqs,score_mtx, gap_score = 0):\n",
    "    if len(seqs) == 1 or len(seqs) == 0:\n",
    "        return\n",
    "    seq_a = seqs.pop(0)\n",
    "    seq_b = seqs.pop(0)\n",
    "    profile = nw_basic(seq_a,seq_b,score_mtx, gap_score)\n",
    "    for seq in seqs:\n",
    "        profile,aligned_seq, score,gaps_profile =nw_msa_util(seq,profile,score_mtx,gap_score)\n",
    "        profile.apply_gaps(gaps_profile)\n",
    "        profile.add_seq(aligned_seq,score)\n",
    "    return profile\n",
    "    "
   ]
  },
  {
   "cell_type": "code",
   "execution_count": 10,
   "id": "cb1b546a-1971-4b67-9dcf-28fd3dbe6180",
   "metadata": {},
   "outputs": [],
   "source": [
    "def nw_msa_util(seq, profile,score_mtx,gap_score):\n",
    "    sizeA = len(seq)\n",
    "    sizeB = profile.size\n",
    "    sol_matrix = np.repeat(0.0, (sizeA+1) * (sizeB+1)).reshape(sizeA+1, sizeB+1)\n",
    "    ops_matrix = np.repeat(0.0, (sizeA+1) * (sizeB+1)).reshape(sizeA+1, sizeB+1)\n",
    " \n",
    "    for i in range(1,sizeA+1):\n",
    "        for j in range(1,sizeB+1):\n",
    "            col=profile.columnAt(j-1)\n",
    "            \n",
    "            diagonal_score = get_score_prof(score_mtx,gap_score,seq[i-1],col,profile.elems_per_col)\n",
    "            diagonal_result = sol_matrix[i-1][j-1] + diagonal_score\n",
    "            \n",
    "            left_result = sol_matrix[i][j-1] + get_score_prof_gap(gap_score,\"-\",col,profile.elems_per_col)\n",
    "            \n",
    "            above_result = sol_matrix[i-1][j] + get_score_prof_gap(gap_score,seq[i-1],\"-\",profile.elems_per_col)\n",
    "            \n",
    "            results = [diagonal_result,left_result,above_result]\n",
    "            \n",
    "            result_index = np.argmax(results)\n",
    "            \n",
    "            if result_index == 0:\n",
    "                sol_matrix[i][j] = diagonal_result\n",
    "                ops_matrix[i][j] = op.MA_MM.value\n",
    "            elif result_index == 1:\n",
    "                sol_matrix[i][j] = left_result\n",
    "                ops_matrix[i][j] = op.GAP_A.value\n",
    "            else:\n",
    "                sol_matrix[i][j] = above_result\n",
    "                ops_matrix[i][j] = op.GAP_B.value\n",
    " \n",
    "    aligned_seq,gaps_profile = profile.traceback(ops_matrix,seq)\n",
    "\n",
    "    return profile, aligned_seq, sol_matrix[sizeA, sizeB],gaps_profile"
   ]
  },
  {
   "cell_type": "code",
   "execution_count": 11,
   "id": "8013937c-7d39-42fe-8401-bb9970876529",
   "metadata": {},
   "outputs": [],
   "source": [
    "def get_score_prof(score_mtx,gap_score,char,column,total_per_column):\n",
    "    score =0\n",
    "    for k,v in column.items():\n",
    "        if k!= \"-\" and v!= 0:\n",
    "            value= (v/total_per_column)*get_score(score_mtx,char,k)\n",
    "        else:\n",
    "            value=(v/total_per_column)*gap_score\n",
    "        score += value\n",
    "    return score"
   ]
  },
  {
   "cell_type": "code",
   "execution_count": 12,
   "id": "0e55c4e4-9d05-4406-94e9-fa41e6825d6b",
   "metadata": {},
   "outputs": [],
   "source": [
    "def get_score_prof_gap(gap_score,char,column,total_per_column):\n",
    "    score = 0\n",
    "    if column == \"-\":\n",
    "        return total_per_column * gap_score\n",
    "    for k,v in column.items():\n",
    "        if k != \"-\" and char == \"-\":\n",
    "            score += (v/total_per_column)*gap_score\n",
    "    return score"
   ]
  },
  {
   "cell_type": "code",
   "execution_count": 13,
   "id": "38c5de42-994d-4c50-8b00-a989b8dbc18d",
   "metadata": {},
   "outputs": [],
   "source": [
    "def generate_random_solution_with_profile(seqs,profile,score_matrix,gap_score=0):\n",
    "    while len(seqs) != 0:\n",
    "        size = len(seqs)\n",
    "        solutions=[]\n",
    "        for seq in seqs:\n",
    "            prof, aligned_seq, score,gaps_profile=nw_msa_util(seq, profile,score_matrix,gap_score)\n",
    "            solutions.append((aligned_seq, score,gaps_profile,seq))\n",
    "        solutions.sort(key=lambda x:x[1], reverse=True)\n",
    "        first=0\n",
    "        last = size-1\n",
    "        mid=size//2\n",
    "        aligned_seq, score,gaps_profile,original_seq = solutions[random.choice([first,mid,last])]\n",
    "        profile.apply_gaps(gaps_profile)\n",
    "        profile.add_seq(aligned_seq,score)\n",
    "        seqs.remove(original_seq)\n",
    "    return profile"
   ]
  },
  {
   "cell_type": "code",
   "execution_count": 14,
   "id": "1a2f6f07-4a58-400b-bd96-3f727bebfbbc",
   "metadata": {},
   "outputs": [],
   "source": [
    "def generate_random_solution(seqs,score_matrix,gap_score=0):\n",
    "    size = len(seqs)\n",
    "    solutions = []\n",
    "    for row in range(size):\n",
    "        for col in range(row+1,size):\n",
    "            seq_a = seqs[row]\n",
    "            seq_b = seqs[col]\n",
    "            solutions.append((nw_basic(seq_a,seq_b,score_mtx,0),seq_a,seq_b))\n",
    "    solutions.sort(key=lambda x:x[0].score, reverse=True)\n",
    "    first=0\n",
    "    last = size-1\n",
    "    mid=size//2\n",
    "    profile,seq_a,seq_b = solutions[random.choice([first,mid,last])]\n",
    "    seqs.remove(seq_a)\n",
    "    seqs.remove(seq_b)\n",
    "    return generate_random_solution_with_profile(seqs,profile,score_matrix,gap_score)    "
   ]
  },
  {
   "cell_type": "code",
   "execution_count": 15,
   "id": "3a872287-87cb-4c23-8fba-ec8ee645acc0",
   "metadata": {},
   "outputs": [],
   "source": [
    "seqs=[\"TATA\",\"TCT\",\"TTCAC\"]"
   ]
  },
  {
   "cell_type": "code",
   "execution_count": 16,
   "id": "3a72d6fc-5a5f-41c8-996d-9f65432476d3",
   "metadata": {},
   "outputs": [],
   "source": [
    "def look_for_better_solution(profile,score_matrix,gap_score,max_iterations):\n",
    "\n",
    "    local_max_profiles= []\n",
    "    for index in range(len(profile.seqs)):\n",
    "        local_max_profile = local_max_from_neighbourhood(index,profile,score_matrix,gap_score,max_iterations)\n",
    "        local_max_profiles.append(local_max_profile)\n",
    "    local_max_profiles.sort(key=lambda x:x.score, reverse=True)\n",
    "    return local_max_profiles[0]"
   ]
  },
  {
   "cell_type": "code",
   "execution_count": 79,
   "id": "2c7dfee6-75ab-48e6-968c-8068e60e0d03",
   "metadata": {},
   "outputs": [],
   "source": [
    "def local_max_from_neighbourhood(seq_index,profile,score_matrix,gap_score,max_iterations):\n",
    "    iterations = max_iterations\n",
    "    #actual_column_score = profile.calculate_score_at(seq_index,score_matrix,gap_score)\n",
    "    while iterations>0:\n",
    "        actual_seq = profile.seqs[seq_index]\n",
    "        changes = []\n",
    "        for index in range(len(actual_seq)-1):\n",
    "                \n",
    "                first = actual_seq[index]\n",
    "                second = actual_seq[index+1]\n",
    "                if ((first == \"-\" or second == \"-\") and first!=second):\n",
    "                    new_seq = actual_seq[:index]\n",
    "                    new_seq.append(second)\n",
    "                    new_seq.append(first)\n",
    "                    new_seq += actual_seq[index+2:]\n",
    "                    first_score = profile.calculate_score_at(index,score_matrix,gap_score)\n",
    "                    second_score = profile.calculate_score_at(index+1,score_matrix,gap_score)\n",
    "                    \n",
    "                    profile.seqs[seq_index] = new_seq\n",
    "                    new_first_score = profile.calculate_score_at(index,score_matrix,gap_score)\n",
    "                    new_second_score = profile.calculate_score_at(index+1,score_matrix,gap_score)\n",
    "                    profile.seqs[seq_index] = actual_seq\n",
    "                    diff= new_first_score + new_second_score - first_score -second_score\n",
    "                    if (diff>0):\n",
    "                        changes.append((index,index+1,new_seq,diff))\n",
    "                    \n",
    "                    \n",
    "        if len(changes)>0:\n",
    "            change = max(changes, key=lambda p: p[3])\n",
    "            profile.seqs[seq_index] = change[2]\n",
    "            profile.score = profile.score +  change[3]\n",
    "        iterations -=1\n",
    "    \n",
    "    return profile"
   ]
  },
  {
   "cell_type": "code",
   "execution_count": 80,
   "id": "5d4934d5-027c-4181-bfa7-97d9279b2825",
   "metadata": {},
   "outputs": [],
   "source": [
    "def grasp(seqs,score_matrix,gap_score,neighbourhoods_amount,max_iterations):\n",
    "    p=generate_random_solution(seqs,score_mtx,gap_score)\n",
    "    return look_for_better_solution(p,neighbourhoods_amount,score_matrix,gap_score,max_iterations)"
   ]
  },
  {
   "cell_type": "code",
   "execution_count": 81,
   "id": "58750539-6384-46cd-b6b5-88998ef71611",
   "metadata": {},
   "outputs": [],
   "source": [
    "#prof=grasp(seqs,score_mtx,0,5,20)"
   ]
  },
  {
   "cell_type": "code",
   "execution_count": 82,
   "id": "d8b05d4f-9558-49e5-84b0-5c1b21f2cadb",
   "metadata": {},
   "outputs": [],
   "source": [
    "#prof.score"
   ]
  },
  {
   "cell_type": "code",
   "execution_count": 94,
   "id": "4527c7ac-c8fd-4e01-ad47-f76983377a1f",
   "metadata": {},
   "outputs": [],
   "source": [
    "seqs=[\"TATA\",\"TCT\",\"TTT\"]"
   ]
  },
  {
   "cell_type": "code",
   "execution_count": 95,
   "id": "181da1e4-d8a7-40c9-a465-e45648ba528f",
   "metadata": {},
   "outputs": [],
   "source": [
    "p=generate_random_solution(seqs,score_mtx,0)"
   ]
  },
  {
   "cell_type": "code",
   "execution_count": 96,
   "id": "87a49ad9-904b-42c2-ba62-166f74bbe2ac",
   "metadata": {},
   "outputs": [
    {
     "data": {
      "text/plain": [
       "0.5"
      ]
     },
     "execution_count": 96,
     "metadata": {},
     "output_type": "execute_result"
    }
   ],
   "source": [
    "p.score"
   ]
  },
  {
   "cell_type": "code",
   "execution_count": 101,
   "id": "d198b97b-8480-4062-89a4-ade402712d1e",
   "metadata": {},
   "outputs": [
    {
     "data": {
      "text/plain": [
       "[['A', 'A', 'A', 'A', '-'],\n",
       " ['T', '-', 'T', '-', 'T'],\n",
       " ['T', 'C', '-', '-', '-', '-', 'T']]"
      ]
     },
     "execution_count": 101,
     "metadata": {},
     "output_type": "execute_result"
    }
   ],
   "source": [
    "p.seqs"
   ]
  },
  {
   "cell_type": "code",
   "execution_count": 99,
   "id": "79bcdc31-c4ab-432f-9120-51e4418c4b6d",
   "metadata": {},
   "outputs": [
    {
     "ename": "IndexError",
     "evalue": "list index out of range",
     "output_type": "error",
     "traceback": [
      "\u001b[0;31m---------------------------------------------------------------------------\u001b[0m",
      "\u001b[0;31mIndexError\u001b[0m                                Traceback (most recent call last)",
      "\u001b[0;32m/tmp/ipykernel_10386/929398022.py\u001b[0m in \u001b[0;36m<module>\u001b[0;34m\u001b[0m\n\u001b[0;32m----> 1\u001b[0;31m \u001b[0mp2\u001b[0m\u001b[0;34m=\u001b[0m\u001b[0mlook_for_better_solution\u001b[0m\u001b[0;34m(\u001b[0m\u001b[0mp\u001b[0m\u001b[0;34m,\u001b[0m\u001b[0mscore_mtx\u001b[0m\u001b[0;34m,\u001b[0m\u001b[0;36m0\u001b[0m\u001b[0;34m,\u001b[0m\u001b[0;36m20\u001b[0m\u001b[0;34m)\u001b[0m\u001b[0;34m\u001b[0m\u001b[0;34m\u001b[0m\u001b[0m\n\u001b[0m",
      "\u001b[0;32m/tmp/ipykernel_10386/1305543361.py\u001b[0m in \u001b[0;36mlook_for_better_solution\u001b[0;34m(profile, score_matrix, gap_score, max_iterations)\u001b[0m\n\u001b[1;32m      3\u001b[0m     \u001b[0mlocal_max_profiles\u001b[0m\u001b[0;34m=\u001b[0m \u001b[0;34m[\u001b[0m\u001b[0;34m]\u001b[0m\u001b[0;34m\u001b[0m\u001b[0;34m\u001b[0m\u001b[0m\n\u001b[1;32m      4\u001b[0m     \u001b[0;32mfor\u001b[0m \u001b[0mindex\u001b[0m \u001b[0;32min\u001b[0m \u001b[0mrange\u001b[0m\u001b[0;34m(\u001b[0m\u001b[0mlen\u001b[0m\u001b[0;34m(\u001b[0m\u001b[0mprofile\u001b[0m\u001b[0;34m.\u001b[0m\u001b[0mseqs\u001b[0m\u001b[0;34m)\u001b[0m\u001b[0;34m)\u001b[0m\u001b[0;34m:\u001b[0m\u001b[0;34m\u001b[0m\u001b[0;34m\u001b[0m\u001b[0m\n\u001b[0;32m----> 5\u001b[0;31m         \u001b[0mlocal_max_profile\u001b[0m \u001b[0;34m=\u001b[0m \u001b[0mlocal_max_from_neighbourhood\u001b[0m\u001b[0;34m(\u001b[0m\u001b[0mindex\u001b[0m\u001b[0;34m,\u001b[0m\u001b[0mprofile\u001b[0m\u001b[0;34m,\u001b[0m\u001b[0mscore_matrix\u001b[0m\u001b[0;34m,\u001b[0m\u001b[0mgap_score\u001b[0m\u001b[0;34m,\u001b[0m\u001b[0mmax_iterations\u001b[0m\u001b[0;34m)\u001b[0m\u001b[0;34m\u001b[0m\u001b[0;34m\u001b[0m\u001b[0m\n\u001b[0m\u001b[1;32m      6\u001b[0m         \u001b[0mlocal_max_profiles\u001b[0m\u001b[0;34m.\u001b[0m\u001b[0mappend\u001b[0m\u001b[0;34m(\u001b[0m\u001b[0mlocal_max_profile\u001b[0m\u001b[0;34m)\u001b[0m\u001b[0;34m\u001b[0m\u001b[0;34m\u001b[0m\u001b[0m\n\u001b[1;32m      7\u001b[0m     \u001b[0mlocal_max_profiles\u001b[0m\u001b[0;34m.\u001b[0m\u001b[0msort\u001b[0m\u001b[0;34m(\u001b[0m\u001b[0mkey\u001b[0m\u001b[0;34m=\u001b[0m\u001b[0;32mlambda\u001b[0m \u001b[0mx\u001b[0m\u001b[0;34m:\u001b[0m\u001b[0mx\u001b[0m\u001b[0;34m.\u001b[0m\u001b[0mscore\u001b[0m\u001b[0;34m,\u001b[0m \u001b[0mreverse\u001b[0m\u001b[0;34m=\u001b[0m\u001b[0;32mTrue\u001b[0m\u001b[0;34m)\u001b[0m\u001b[0;34m\u001b[0m\u001b[0;34m\u001b[0m\u001b[0m\n",
      "\u001b[0;32m/tmp/ipykernel_10386/3022239143.py\u001b[0m in \u001b[0;36mlocal_max_from_neighbourhood\u001b[0;34m(seq_index, profile, score_matrix, gap_score, max_iterations)\u001b[0m\n\u001b[1;32m     14\u001b[0m                     \u001b[0mnew_seq\u001b[0m\u001b[0;34m.\u001b[0m\u001b[0mappend\u001b[0m\u001b[0;34m(\u001b[0m\u001b[0mfirst\u001b[0m\u001b[0;34m)\u001b[0m\u001b[0;34m\u001b[0m\u001b[0;34m\u001b[0m\u001b[0m\n\u001b[1;32m     15\u001b[0m                     \u001b[0mnew_seq\u001b[0m \u001b[0;34m+=\u001b[0m \u001b[0mactual_seq\u001b[0m\u001b[0;34m[\u001b[0m\u001b[0mindex\u001b[0m\u001b[0;34m+\u001b[0m\u001b[0;36m2\u001b[0m\u001b[0;34m:\u001b[0m\u001b[0;34m]\u001b[0m\u001b[0;34m\u001b[0m\u001b[0;34m\u001b[0m\u001b[0m\n\u001b[0;32m---> 16\u001b[0;31m                     \u001b[0mfirst_score\u001b[0m \u001b[0;34m=\u001b[0m \u001b[0mprofile\u001b[0m\u001b[0;34m.\u001b[0m\u001b[0mcalculate_score_at\u001b[0m\u001b[0;34m(\u001b[0m\u001b[0mindex\u001b[0m\u001b[0;34m,\u001b[0m\u001b[0mscore_matrix\u001b[0m\u001b[0;34m,\u001b[0m\u001b[0mgap_score\u001b[0m\u001b[0;34m)\u001b[0m\u001b[0;34m\u001b[0m\u001b[0;34m\u001b[0m\u001b[0m\n\u001b[0m\u001b[1;32m     17\u001b[0m                     \u001b[0msecond_score\u001b[0m \u001b[0;34m=\u001b[0m \u001b[0mprofile\u001b[0m\u001b[0;34m.\u001b[0m\u001b[0mcalculate_score_at\u001b[0m\u001b[0;34m(\u001b[0m\u001b[0mindex\u001b[0m\u001b[0;34m+\u001b[0m\u001b[0;36m1\u001b[0m\u001b[0;34m,\u001b[0m\u001b[0mscore_matrix\u001b[0m\u001b[0;34m,\u001b[0m\u001b[0mgap_score\u001b[0m\u001b[0;34m)\u001b[0m\u001b[0;34m\u001b[0m\u001b[0;34m\u001b[0m\u001b[0m\n\u001b[1;32m     18\u001b[0m \u001b[0;34m\u001b[0m\u001b[0m\n",
      "\u001b[0;32m/tmp/ipykernel_10386/1298029019.py\u001b[0m in \u001b[0;36mcalculate_score_at\u001b[0;34m(self, index, score_matrix, gap_score)\u001b[0m\n\u001b[1;32m     11\u001b[0m         \u001b[0mscore\u001b[0m \u001b[0;34m=\u001b[0m \u001b[0;36m0\u001b[0m\u001b[0;34m\u001b[0m\u001b[0;34m\u001b[0m\u001b[0m\n\u001b[1;32m     12\u001b[0m         \u001b[0;32mfor\u001b[0m \u001b[0mseq\u001b[0m \u001b[0;32min\u001b[0m \u001b[0mself\u001b[0m\u001b[0;34m.\u001b[0m\u001b[0mseqs\u001b[0m\u001b[0;34m:\u001b[0m\u001b[0;34m\u001b[0m\u001b[0;34m\u001b[0m\u001b[0m\n\u001b[0;32m---> 13\u001b[0;31m             \u001b[0mnucleotides\u001b[0m\u001b[0;34m.\u001b[0m\u001b[0mappend\u001b[0m\u001b[0;34m(\u001b[0m\u001b[0mseq\u001b[0m\u001b[0;34m[\u001b[0m\u001b[0mindex\u001b[0m\u001b[0;34m]\u001b[0m\u001b[0;34m)\u001b[0m\u001b[0;34m\u001b[0m\u001b[0;34m\u001b[0m\u001b[0m\n\u001b[0m\u001b[1;32m     14\u001b[0m         \u001b[0;32mfor\u001b[0m \u001b[0mx\u001b[0m \u001b[0;32min\u001b[0m \u001b[0mrange\u001b[0m\u001b[0;34m(\u001b[0m\u001b[0mlen\u001b[0m\u001b[0;34m(\u001b[0m\u001b[0mnucleotides\u001b[0m\u001b[0;34m)\u001b[0m\u001b[0;34m)\u001b[0m\u001b[0;34m:\u001b[0m\u001b[0;34m\u001b[0m\u001b[0;34m\u001b[0m\u001b[0m\n\u001b[1;32m     15\u001b[0m             \u001b[0;32mfor\u001b[0m \u001b[0my\u001b[0m \u001b[0;32min\u001b[0m \u001b[0mrange\u001b[0m\u001b[0;34m(\u001b[0m\u001b[0mx\u001b[0m\u001b[0;34m+\u001b[0m\u001b[0;36m1\u001b[0m\u001b[0;34m,\u001b[0m\u001b[0mlen\u001b[0m\u001b[0;34m(\u001b[0m\u001b[0mnucleotides\u001b[0m\u001b[0;34m)\u001b[0m\u001b[0;34m)\u001b[0m\u001b[0;34m:\u001b[0m\u001b[0;34m\u001b[0m\u001b[0;34m\u001b[0m\u001b[0m\n",
      "\u001b[0;31mIndexError\u001b[0m: list index out of range"
     ]
    }
   ],
   "source": [
    "p2=look_for_better_solution(p,score_mtx,0,20)"
   ]
  },
  {
   "cell_type": "code",
   "execution_count": 93,
   "id": "2c057545-ad8a-47f2-89a0-a4b9f4fabdd4",
   "metadata": {},
   "outputs": [
    {
     "data": {
      "text/plain": [
       "2"
      ]
     },
     "execution_count": 93,
     "metadata": {},
     "output_type": "execute_result"
    }
   ],
   "source": [
    "p2.score"
   ]
  },
  {
   "cell_type": "code",
   "execution_count": null,
   "id": "07cda56c-f489-4014-af94-1af56fdd6119",
   "metadata": {},
   "outputs": [],
   "source": []
  }
 ],
 "metadata": {
  "kernelspec": {
   "display_name": "Python 3 (ipykernel)",
   "language": "python",
   "name": "python3"
  },
  "language_info": {
   "codemirror_mode": {
    "name": "ipython",
    "version": 3
   },
   "file_extension": ".py",
   "mimetype": "text/x-python",
   "name": "python",
   "nbconvert_exporter": "python",
   "pygments_lexer": "ipython3",
   "version": "3.9.7"
  }
 },
 "nbformat": 4,
 "nbformat_minor": 5
}
