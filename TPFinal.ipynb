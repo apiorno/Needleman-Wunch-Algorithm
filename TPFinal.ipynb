{
 "cells": [
  {
   "cell_type": "code",
   "execution_count": 1,
   "id": "b546c7a4-e7f8-4299-a23a-43bdd13a2f26",
   "metadata": {},
   "outputs": [],
   "source": [
    "import numpy as np\n",
    "from Bio import pairwise2, SeqIO\n",
    "from enum import Enum\n",
    "import random\n",
    "import matplotlib.pyplot as plt\n",
    "from fpdf import FPDF "
   ]
  },
  {
   "cell_type": "markdown",
   "id": "3f037a90-6ff9-453c-86eb-16a8d9a316fd",
   "metadata": {},
   "source": [
    "## Basic Initialziation"
   ]
  },
  {
   "cell_type": "code",
   "execution_count": 2,
   "id": "89081322-cebf-417d-8c50-8249b5fa73dd",
   "metadata": {},
   "outputs": [],
   "source": [
    "class PDF(FPDF):\n",
    "    \n",
    "    def lines(self):\n",
    "        self.set_fill_color(32.0, 47.0, 250.0) # color for outer rectangle\n",
    "        self.rect(5.0, 5.0, 200.0,287.0,'DF')\n",
    "        self.set_fill_color(255, 255, 255) # color for inner rectangle\n",
    "        self.rect(8.0, 8.0, 194.0,282.0,'FD')\n",
    "    def titles(self):\n",
    "        self.set_xy(0.0,0.0)\n",
    "        self.set_font('Arial', 'B', 16)\n",
    "        self.set_text_color(220, 50, 50)\n",
    "        self.cell(w=210.0, h=40.0, align='C', txt=\"Needleman-Wunch Alg GRASP results\", border=0)\n",
    "    def charts(self,plt,x,y):\n",
    "        self.set_xy(x,y)\n",
    "        self.image(plt,  link='', type='', w=700/5, h=450/5)\n",
    "    def texts(self,name):\n",
    "        with open(name,'rb') as xy:\n",
    "            txt=xy.read().decode('latin-1')\n",
    "        self.set_xy(10.0,80.0)    \n",
    "        self.set_text_color(76.0, 32.0, 250.0)\n",
    "        self.set_font('Arial', '', 12)\n",
    "        self.multi_cell(0,10,txt)"
   ]
  },
  {
   "cell_type": "code",
   "execution_count": 3,
   "id": "23bb5a8f-def1-478e-b964-22cacd76e43d",
   "metadata": {},
   "outputs": [],
   "source": [
    "class op(Enum):\n",
    "    GAP_A = 1\n",
    "    GAP_B = 2\n",
    "    MA_MM = 3"
   ]
  },
  {
   "cell_type": "code",
   "execution_count": 4,
   "id": "fb7c062d-75db-492f-995f-414ea82bf85b",
   "metadata": {},
   "outputs": [
    {
     "data": {
      "text/plain": [
       "array([[ 1, -1, -1, -1, -1],\n",
       "       [-1,  1, -1, -1, -1],\n",
       "       [-1, -1,  1, -1, -1],\n",
       "       [-1, -1, -1,  1, -1],\n",
       "       [-1, -1, -1, -1,  1]])"
      ]
     },
     "execution_count": 4,
     "metadata": {},
     "output_type": "execute_result"
    }
   ],
   "source": [
    "score_mtx = np.repeat(-1, (5) * (5)).reshape(5, 5)\n",
    "for i in range(0,5):\n",
    "    score_mtx[i][i]=1\n",
    "score_mtx"
   ]
  },
  {
   "cell_type": "code",
   "execution_count": 5,
   "id": "9bacef96-705f-404e-a867-3833dc561ae9",
   "metadata": {},
   "outputs": [],
   "source": [
    "def init_ops_matrix(sizeA,sizeB):\n",
    "    matrix = np.repeat(0, (sizeA+1) * (sizeB+1)).reshape(sizeA+1, sizeB+1)\n",
    "    \n",
    "    for i in range(1,sizeB+1):\n",
    "        matrix[0][i] = op.GAP_A.value\n",
    "    for j in range(1,sizeA+1):\n",
    "        matrix[j][0] = op.GAP_B.value\n",
    "    return matrix"
   ]
  },
  {
   "cell_type": "code",
   "execution_count": 6,
   "id": "91d5e481-0fff-4e4c-881c-91a8c9d4f9a2",
   "metadata": {},
   "outputs": [],
   "source": [
    "def parseNucleotide(nucleotide):\n",
    "    switcher = {\n",
    "        'A': 0,\n",
    "        'T': 1,\n",
    "        'G': 2,\n",
    "        'C': 3,\n",
    "        'N': 4\n",
    "    }\n",
    "    return switcher.get(nucleotide,\"Invalid nucleotide\")"
   ]
  },
  {
   "cell_type": "code",
   "execution_count": 7,
   "id": "de960ce1-133d-4c57-b56a-2ce9abaf959d",
   "metadata": {},
   "outputs": [],
   "source": [
    "def get_score(score_mtx,characterA,characterB):\n",
    "        indexA = parseNucleotide(characterA)\n",
    "        indexB = parseNucleotide(characterB)\n",
    "        return score_mtx[indexA,indexB]"
   ]
  },
  {
   "cell_type": "markdown",
   "id": "b235526a-376a-400a-b6e2-f31abb648c7c",
   "metadata": {},
   "source": [
    "## Neddleman-Wunch Simple"
   ]
  },
  {
   "cell_type": "code",
   "execution_count": 8,
   "id": "c8da55b1-644b-480a-919b-a2a9abb34696",
   "metadata": {},
   "outputs": [],
   "source": [
    "def traceback(ops_matrix, seqA, seqB):\n",
    "    seqA_alineada = []\n",
    "    seqB_alineada = []\n",
    "    i = len(seqA)\n",
    "    j = len(seqB)\n",
    "    while i > 0 or j > 0:\n",
    "        if ops_matrix[i, j] == op.GAP_A.value:\n",
    "            seqA_alineada.append(\"-\")\n",
    "            seqB_alineada.append(seqB[j -1])\n",
    "            j -= 1\n",
    "        elif ops_matrix[i, j] == op.GAP_B.value:\n",
    "            seqB_alineada.append(\"-\")\n",
    "            seqA_alineada.append(seqA[i -1])\n",
    "            i -= 1\n",
    "        else: # es decir, match / mismatch\n",
    "            i -= 1\n",
    "            j -= 1\n",
    "            seqA_alineada.append(seqA[i])\n",
    "            seqB_alineada.append(seqB[j])\n",
    "            \n",
    "    seqA_alineada = seqA_alineada[::-1]\n",
    "    seqB_alineada = seqB_alineada[::-1]\n",
    "    \n",
    "    return seqA_alineada, seqB_alineada"
   ]
  },
  {
   "cell_type": "code",
   "execution_count": 9,
   "id": "be7e060a-e80b-47e6-859f-35053b246181",
   "metadata": {},
   "outputs": [],
   "source": [
    "def nw_basic(seqA_str, seqB_str, score_mtx, gap_score = 0):\n",
    "    sizeA = len(seqA_str)\n",
    "    sizeB = len(seqB_str)\n",
    "    sol_matrix = np.repeat(0, (sizeA+1) * (sizeB+1)).reshape(sizeA+1, sizeB+1)\n",
    "    ops_matrix = init_ops_matrix(sizeA,sizeB)\n",
    "    \n",
    "    for i in range(1,sizeA+1):\n",
    "        for j in range(1,sizeB+1):\n",
    "            \n",
    "            diagonal_score = get_score(score_mtx,seqA_str[i-1],seqB_str[j-1])\n",
    "            diagonal_result = sol_matrix[i-1][j-1] + diagonal_score\n",
    "            left_result = sol_matrix[i][j-1] + gap_score\n",
    "            above_result = sol_matrix[i-1][j] + gap_score\n",
    "            results = [diagonal_result,left_result,above_result]\n",
    "            result_index = np.argmax(results)\n",
    "            if result_index == 0:\n",
    "                sol_matrix[i][j] = diagonal_result\n",
    "                ops_matrix[i][j] = op.MA_MM.value\n",
    "            elif result_index == 1:\n",
    "                sol_matrix[i][j] = left_result\n",
    "                ops_matrix[i][j] = op.GAP_A.value\n",
    "            else:\n",
    "                sol_matrix[i][j] = above_result\n",
    "                ops_matrix[i][j] = op.GAP_B.value\n",
    "\n",
    "    aln_a, aln_b = traceback(ops_matrix,seqA_str,seqB_str)\n",
    "\n",
    "    profile = Profile()\n",
    "    profile.add_seq(aln_a,sol_matrix[sizeA, sizeB])\n",
    "    profile.add_seq(aln_b,sol_matrix[sizeA, sizeB])\n",
    "    \n",
    "    return profile"
   ]
  },
  {
   "cell_type": "markdown",
   "id": "e9c9c186-8003-4310-95be-2ae88edeb86e",
   "metadata": {},
   "source": [
    "## Profile"
   ]
  },
  {
   "cell_type": "code",
   "execution_count": 10,
   "id": "7f9f27b6-eeba-4e94-8138-c02bea1c266e",
   "metadata": {},
   "outputs": [],
   "source": [
    "class Profile:\n",
    "    def __init__(self):\n",
    "        self.alignment_dashboard = {\"A\":{},\"T\":{},\"G\":{},\"C\":{},\"N\":{},\"-\":{}}\n",
    "        self.score=0\n",
    "        self.elems_per_col=0\n",
    "        self.size = 0\n",
    "        self.seqs = []\n",
    "\n",
    "    def calculate_score_at(self,index,score_matrix,gap_score):\n",
    "        nucleotides = []\n",
    "        score = 0\n",
    "        for seq in self.seqs:\n",
    "            try:\n",
    "                nucleotides.append(seq[index])\n",
    "            except IndexError:\n",
    "                # Muy de vez en cuando pasa esto, pero no sucede casi nunca y me fui dificil debuggearlo\n",
    "                continue\n",
    "                #print(\"seq\", len(seq))\n",
    "                #print(\"index\", index)\n",
    "        for x in range(len(nucleotides)):\n",
    "            for y in range(x+1,len(nucleotides)):\n",
    "                first= nucleotides[x]\n",
    "                second= nucleotides[y]\n",
    "                if not (first == \"-\" and second == \"-\"):\n",
    "                    if first == \"-\" or second == \"-\":\n",
    "                        score+=gap_score\n",
    "                    else:\n",
    "                        score+= get_score(score_matrix,first,second)\n",
    "        return score\n",
    "                        \n",
    "                \n",
    "    def columnAt(self,index):\n",
    "        a = self.alignment_at(\"A\",index)\n",
    "        t = self.alignment_at(\"T\",index)\n",
    "        g = self.alignment_at(\"G\",index)\n",
    "        c = self.alignment_at(\"C\",index)\n",
    "        n = self.alignment_at(\"N\",index)\n",
    "        gap = self.alignment_at(\"-\",index)\n",
    "        return {\"A\":a,\"T\":t,\"G\":g,\"C\":c,\"N\":n,\"-\":gap}\n",
    "    def alignment_at(self,nucleotide,index):\n",
    "        res = 0\n",
    "        try:\n",
    "            res =self.alignment_dashboard[nucleotide][index]\n",
    "        except KeyError:\n",
    "            return res\n",
    "        return res\n",
    "    def traceback(self,ops_matrix,seq):\n",
    "        gaps_profile=[]\n",
    "        seq_alineada = []\n",
    "        i = len(seq)\n",
    "        j = self.size\n",
    "        while i > 0 or j > 0:\n",
    "            if ops_matrix[i, j] == op.GAP_A.value:\n",
    "                seq_alineada.append(\"-\")\n",
    "                j -= 1\n",
    "            elif ops_matrix[i, j] == op.GAP_B.value:\n",
    "                gaps_profile.append(i -1)\n",
    "                seq_alineada.append(seq[i -1])\n",
    "                i -= 1\n",
    "            else: # es decir, match / mismatch\n",
    "                i -= 1\n",
    "                j -= 1\n",
    "                seq_alineada.append(seq[i])\n",
    "            \n",
    "        seq_alineada = seq_alineada[::-1]\n",
    "\n",
    "        return seq_alineada,gaps_profile\n",
    "        \n",
    "    def apply_gaps(self,gaps_positions):\n",
    "        self.alignment_dashboard = {\"A\":{},\"T\":{},\"G\":{},\"C\":{},\"N\":{},\"-\":{}}\n",
    "        self.elems_per_col=0\n",
    "        new_aligned_seq=[]\n",
    "        for seq in self.seqs:\n",
    "            aligned_seq=[]\n",
    "            for index in range(len(seq)):\n",
    "                if index in gaps_positions:\n",
    "                    aligned_seq.append(\"-\")\n",
    "                aligned_seq.append(seq[index])\n",
    "            \n",
    "            new_aligned_seq.append(aligned_seq) \n",
    "        self.seqs=[]\n",
    "        for seq in new_aligned_seq:\n",
    "            self.add_seq(seq,self.score)\n",
    "    def add_seq(self,aligned_sequense,score):\n",
    "        for index in range(len(aligned_sequense)):\n",
    "            actual_character = aligned_sequense[index]\n",
    "            \n",
    "            try:\n",
    "                actual_charater_count = self.alignment_dashboard[actual_character][index]\n",
    "            except KeyError:\n",
    "                self.alignment_dashboard[actual_character][index] = 0\n",
    "                actual_charater_count = self.alignment_dashboard[actual_character][index] \n",
    "            self.alignment_dashboard[actual_character][index] = actual_charater_count + 1\n",
    "            self.size = max(self.size, len(aligned_sequense))\n",
    "        self.seqs.append( aligned_sequense)   \n",
    "        self.elems_per_col+=1\n",
    "        self.score = score\n",
    "    "
   ]
  },
  {
   "cell_type": "markdown",
   "id": "17ceb1d5-31b4-4c7b-9315-3e1e9105f053",
   "metadata": {},
   "source": [
    "## Needleman-Wunch MSA"
   ]
  },
  {
   "cell_type": "code",
   "execution_count": 11,
   "id": "08f33aa1-4f08-499b-be02-635b5a4bc3af",
   "metadata": {},
   "outputs": [],
   "source": [
    "def nw_msa(seqs,score_mtx, gap_score = 0):\n",
    "    if len(seqs) == 1 or len(seqs) == 0:\n",
    "        return\n",
    "    seq_a = seqs.pop(0)\n",
    "    seq_b = seqs.pop(0)\n",
    "    profile = nw_basic(seq_a,seq_b,score_mtx, gap_score)\n",
    "    for seq in seqs:\n",
    "        profile,aligned_seq, score,gaps_profile =nw_msa_util(seq,profile,score_mtx,gap_score)\n",
    "        profile.apply_gaps(gaps_profile)\n",
    "        profile.add_seq(aligned_seq,score)\n",
    "    return profile\n",
    "    "
   ]
  },
  {
   "cell_type": "code",
   "execution_count": 12,
   "id": "cb1b546a-1971-4b67-9dcf-28fd3dbe6180",
   "metadata": {},
   "outputs": [],
   "source": [
    "def nw_msa_util(seq, profile,score_mtx,gap_score):\n",
    "    sizeA = len(seq)\n",
    "    sizeB = profile.size\n",
    "    sol_matrix = np.repeat(0.0, (sizeA+1) * (sizeB+1)).reshape(sizeA+1, sizeB+1)\n",
    "    ops_matrix = init_ops_matrix(sizeA,sizeB)\n",
    "    \n",
    "    for i in range(1,sizeA+1):\n",
    "        for j in range(1,sizeB+1):\n",
    "            col=profile.columnAt(j-1)\n",
    "            nucleotide = seq[i-1]\n",
    "            \n",
    "            diagonal_score = get_score_prof(score_mtx,gap_score,nucleotide,col,profile.elems_per_col)\n",
    "            diagonal_result = sol_matrix[i-1][j-1] + diagonal_score\n",
    "            \n",
    "            left_result = sol_matrix[i][j-1] + get_score_prof_gap(gap_score,\"-\",col,profile.elems_per_col)\n",
    "            \n",
    "            above_result = sol_matrix[i-1][j] + get_score_prof_gap(gap_score,nucleotide,\"-\",profile.elems_per_col)\n",
    "            \n",
    "            results = [diagonal_result,left_result,above_result]\n",
    "           \n",
    "            result_index = np.argmax(results)\n",
    "\n",
    "            if result_index == 0:\n",
    "                sol_matrix[i][j] = diagonal_result\n",
    "                ops_matrix[i][j] = op.MA_MM.value\n",
    "            elif result_index == 1:\n",
    "                sol_matrix[i][j] = left_result\n",
    "                ops_matrix[i][j] = op.GAP_A.value\n",
    "            else:\n",
    "                sol_matrix[i][j] = above_result\n",
    "                ops_matrix[i][j] = op.GAP_B.value\n",
    " \n",
    "    aligned_seq,gaps_profile = profile.traceback(ops_matrix,seq)\n",
    "\n",
    "    return profile, aligned_seq, sol_matrix[sizeA, sizeB],gaps_profile"
   ]
  },
  {
   "cell_type": "code",
   "execution_count": 13,
   "id": "8013937c-7d39-42fe-8401-bb9970876529",
   "metadata": {},
   "outputs": [],
   "source": [
    "def get_score_prof(score_mtx,gap_score,char,column,total_per_column):\n",
    "    score =0\n",
    "    for k,v in column.items():\n",
    "        if k!= \"-\":\n",
    "            value= (v/total_per_column)*get_score(score_mtx,char,k)\n",
    "        else:\n",
    "            value=(v/total_per_column)*gap_score\n",
    "        score += value\n",
    "    return score"
   ]
  },
  {
   "cell_type": "code",
   "execution_count": 14,
   "id": "0e55c4e4-9d05-4406-94e9-fa41e6825d6b",
   "metadata": {},
   "outputs": [],
   "source": [
    "def get_score_prof_gap(gap_score,char,column,total_per_column):\n",
    "    score = 0\n",
    "    if column == \"-\":\n",
    "        return total_per_column * gap_score\n",
    "    for k,v in column.items():\n",
    "        if k != \"-\" and char == \"-\":\n",
    "            score += (v/total_per_column)*gap_score\n",
    "    return score"
   ]
  },
  {
   "cell_type": "markdown",
   "id": "a7bc9ec7-2e42-42bc-a6a8-de72147843c6",
   "metadata": {},
   "source": [
    "## GRASP"
   ]
  },
  {
   "cell_type": "code",
   "execution_count": 15,
   "id": "38c5de42-994d-4c50-8b00-a989b8dbc18d",
   "metadata": {},
   "outputs": [],
   "source": [
    "def generate_random_solution_with_profile(seqs,profile,score_matrix,gap_score=0):\n",
    "    while len(seqs) != 0:\n",
    "        size = len(seqs)\n",
    "        solutions=[]\n",
    "        for seq in seqs:\n",
    "            prof, aligned_seq, score,gaps_profile=nw_msa_util(seq, profile,score_matrix,gap_score)\n",
    "            solutions.append((aligned_seq, score,gaps_profile,seq))\n",
    "        solutions.sort(key=lambda x:x[1], reverse=True)\n",
    "        first=0\n",
    "        last = size-1\n",
    "        mid= (size//2) if size>1 else 0\n",
    "        aligned_seq, score,gaps_profile,original_seq = solutions[random.choice([first,mid,last])]\n",
    "        profile.apply_gaps(gaps_profile)\n",
    "        profile.add_seq(aligned_seq,score)\n",
    "        seqs.remove(original_seq)\n",
    "    return profile"
   ]
  },
  {
   "cell_type": "code",
   "execution_count": 16,
   "id": "1a2f6f07-4a58-400b-bd96-3f727bebfbbc",
   "metadata": {},
   "outputs": [],
   "source": [
    "def generate_random_solution(seqs,score_matrix,gap_score=0):\n",
    "    size = len(seqs)\n",
    "    solutions = []\n",
    "    for row in range(size):\n",
    "        for col in range(row+1,size):\n",
    "            seq_a = seqs[row]\n",
    "            seq_b = seqs[col]\n",
    "            solutions.append((nw_basic(seq_a,seq_b,score_mtx,0),seq_a,seq_b))\n",
    "    solutions.sort(key=lambda x:x[0].score, reverse=True)\n",
    "    first=0\n",
    "    last = size-1\n",
    "    mid= (size//2)  if size>1 else 0\n",
    "    random_index = random.choice([first,mid,last])\n",
    "    profile,seq_a,seq_b = solutions[random_index]\n",
    "    seqs.remove(seq_a)\n",
    "    seqs.remove(seq_b)\n",
    "    return generate_random_solution_with_profile(seqs,profile,score_matrix,gap_score)    "
   ]
  },
  {
   "cell_type": "code",
   "execution_count": 17,
   "id": "3a72d6fc-5a5f-41c8-996d-9f65432476d3",
   "metadata": {
    "jupyter": {
     "source_hidden": true
    },
    "tags": []
   },
   "outputs": [],
   "source": [
    "def look_for_better_solution(profile,score_matrix,gap_score,max_iterations):\n",
    "\n",
    "    max_results_per_it = {}\n",
    "    max_results_per_it[0]= (0,profile.score,profile)\n",
    "    for actual_it in range(1,max_iterations+1):\n",
    "        local_max_profiles= []\n",
    "        for index in range(len(profile.seqs)):\n",
    "            iter_changes = local_max_from_neighbourhood(index,profile,score_matrix,gap_score,max_iterations)\n",
    "            local_max_profiles.append(iter_changes)\n",
    "        max_results_per_it[actual_it] = local_max_profiles[len(local_max_profiles)-1]   \n",
    "    return max_results_per_it"
   ]
  },
  {
   "cell_type": "code",
   "execution_count": 18,
   "id": "2c7dfee6-75ab-48e6-968c-8068e60e0d03",
   "metadata": {},
   "outputs": [],
   "source": [
    "def local_max_from_neighbourhood(seq_index,profile,score_matrix,gap_score,max_iterations):\n",
    "   \n",
    "    actual_seq = profile.seqs[seq_index]\n",
    "    changes = []\n",
    "    for index in range(len(actual_seq)-1):\n",
    "                \n",
    "            first = actual_seq[index]\n",
    "            second = actual_seq[index+1]\n",
    "            if ((first == \"-\" or second == \"-\") and first!=second):\n",
    "                new_seq = actual_seq[:index]\n",
    "                new_seq.append(second)\n",
    "                new_seq.append(first)\n",
    "                new_seq += actual_seq[index+2:]\n",
    "                first_score = profile.calculate_score_at(index,score_matrix,gap_score)\n",
    "                second_score = profile.calculate_score_at(index+1,score_matrix,gap_score)\n",
    "                    \n",
    "                profile.seqs[seq_index] = new_seq\n",
    "                new_first_score = profile.calculate_score_at(index,score_matrix,gap_score)\n",
    "                new_second_score = profile.calculate_score_at(index+1,score_matrix,gap_score)\n",
    "                profile.seqs[seq_index] = actual_seq\n",
    "                diff= new_first_score + new_second_score - first_score -second_score\n",
    "                if (diff>0):\n",
    "                    changes.append((index,index+1,new_seq,diff))\n",
    "                    \n",
    "                    \n",
    "    if len(changes)>0:\n",
    "        change = max(changes, key=lambda p: p[3])\n",
    "        profile.seqs[seq_index] = change[2]\n",
    "        profile.score = profile.score +  change[3]\n",
    "        return (change[3],profile.score,profile)\n",
    "    else:\n",
    "        return (0,profile.score,profile)"
   ]
  },
  {
   "cell_type": "code",
   "execution_count": 19,
   "id": "5d4934d5-027c-4181-bfa7-97d9279b2825",
   "metadata": {},
   "outputs": [],
   "source": [
    "def grasp(seqs,score_matrix,gap_score,max_local_search_iterations,max_iterations,max_iterations_without_improvements):\n",
    "    best_solution = None\n",
    "    all_score_solutions_by_iteration = {}\n",
    "    iterations_without_improvement = 0\n",
    "    for iteration in range(1,max_iterations+1):\n",
    "        iterations_without_improvement += 1\n",
    "        p=generate_random_solution(seqs[:],score_mtx,gap_score)\n",
    "        better_sol=look_for_better_solution(p,score_matrix,gap_score,max_local_search_iterations)\n",
    "        all_score_solutions_by_iteration[iteration] = better_sol\n",
    "        if best_solution is None or best_solution.score < list(better_sol.values())[-1][1]:\n",
    "            best_solution = list(better_sol.values())[-1][2]\n",
    "            iterations_without_improvement = 0\n",
    "        if iterations_without_improvement == max_iterations_without_improvements:\n",
    "            break\n",
    "    return best_solution,all_score_solutions_by_iteration\n",
    "        "
   ]
  },
  {
   "cell_type": "markdown",
   "id": "20402d2e-bb3d-4529-a8ba-6eb0a2409204",
   "metadata": {},
   "source": [
    "### Seqs from fasta"
   ]
  },
  {
   "cell_type": "code",
   "execution_count": 20,
   "id": "5b7f5c52-bb23-46ce-93b5-0eacd753e39e",
   "metadata": {},
   "outputs": [],
   "source": [
    "seqs = []\n",
    "f_aln = SeqIO.parse(\"x.fasta\", 'fasta')\n",
    "\n",
    "while(True):\n",
    "    try:\n",
    "        elem = next(f_aln)\n",
    "        seq = str(elem.seq)\n",
    "        seqs.append(seq)\n",
    "    except StopIteration:\n",
    "        break"
   ]
  },
  {
   "cell_type": "markdown",
   "id": "97f02d5b-93f9-4250-b6c4-62df3e71ecda",
   "metadata": {},
   "source": [
    "## Executing"
   ]
  },
  {
   "cell_type": "code",
   "execution_count": 21,
   "id": "78f6c0f9-9049-4dc0-afa9-d01a9fa6baac",
   "metadata": {},
   "outputs": [],
   "source": [
    "best,partial_scores=grasp(seqs,score_mtx,0,20,20,5)"
   ]
  },
  {
   "cell_type": "code",
   "execution_count": 24,
   "id": "e4b83c53-72c7-4e9a-af41-1cd82607328f",
   "metadata": {},
   "outputs": [],
   "source": [
    "def plot_partial_score_increment(some_scores,index):\n",
    "    iterations = []\n",
    "    incs = []\n",
    "    scores = []\n",
    "    for k,t in some_scores.items():\n",
    "        (inc,score,prof) = t\n",
    "        iterations.append(k)\n",
    "        scores.append(score)\n",
    "        incs.append(inc)\n",
    "        profile = prof\n",
    "    plt.plot(iterations, incs, label = f'Increments {index}')\n"
   ]
  },
  {
   "cell_type": "code",
   "execution_count": 25,
   "id": "a2415eca-2854-4d02-87e6-1d6dd1107456",
   "metadata": {},
   "outputs": [],
   "source": [
    "def plot_partial_score(some_scores,index):\n",
    "    iterations = []\n",
    "    incs = []\n",
    "    scores = []\n",
    "    for k,t in some_scores.items():\n",
    "        (inc,score,prof) = t\n",
    "        iterations.append(k)\n",
    "        scores.append(score)\n",
    "        incs.append(inc)\n",
    "        profile = prof\n",
    "    plt.plot(iterations, scores, label = f'Score {index}')\n"
   ]
  },
  {
   "cell_type": "markdown",
   "id": "b74709d6-6518-4725-b526-034a0aefe2ac",
   "metadata": {},
   "source": [
    "### Wrting aligned seqs to file"
   ]
  },
  {
   "cell_type": "code",
   "execution_count": 27,
   "id": "b05b1ace-bc44-4a1d-9cb8-4fdece1730d5",
   "metadata": {},
   "outputs": [],
   "source": [
    "with open('seqs.txt', 'w') as f:\n",
    "    index = 1\n",
    "    for line in best.seqs:\n",
    "        str_line= ''.join(line)\n",
    "        f.write(f'Aligned sequense {index}:')\n",
    "        f.write('\\n')\n",
    "        f.write(str_line)\n",
    "        f.write('\\n')\n",
    "        index += 1"
   ]
  },
  {
   "cell_type": "markdown",
   "id": "f31f9200-e988-4fad-a68d-48c66e591f1f",
   "metadata": {},
   "source": [
    "### Drawing score increments over iterations and saveing to PNG"
   ]
  },
  {
   "cell_type": "code",
   "execution_count": 28,
   "id": "3f7d8696-3b9d-434b-8cff-43a0a8e2edc5",
   "metadata": {},
   "outputs": [
    {
     "data": {
      "image/png": "[encoded data removed]",
      "text/plain": [
       "<Figure size 432x288 with 1 Axes>"
      ]
     },
     "metadata": {
      "needs_background": "light"
     },
     "output_type": "display_data"
    }
   ],
   "source": [
    "for x in range(1,len(partial_scores)+1):\n",
    "    plot_partial_score_increment(partial_scores[x],x)\n",
    "plt.xlabel('iteration')\n",
    "plt.ylabel('score increment')\n",
    "plt.legend()\n",
    "plt.savefig('chart1.png')"
   ]
  },
  {
   "cell_type": "markdown",
   "id": "b2d5f89e-1714-46c1-8cca-7bab81840d2e",
   "metadata": {},
   "source": [
    "### Drawing scores over iterations and saveing to PNG"
   ]
  },
  {
   "cell_type": "code",
   "execution_count": 29,
   "id": "36239ba0-e8ab-4b21-bd32-84a9a48a1600",
   "metadata": {},
   "outputs": [
    {
     "data": {
      "image/png": "[encoded data removed]",
      "text/plain": [
       "<Figure size 432x288 with 1 Axes>"
      ]
     },
     "metadata": {
      "needs_background": "light"
     },
     "output_type": "display_data"
    }
   ],
   "source": [
    "for x in range(1,len(partial_scores)+1):\n",
    "    plot_partial_score(partial_scores[x],x)\n",
    "plt.xlabel('iteration')\n",
    "plt.ylabel('score')\n",
    "plt.legend()\n",
    "plt.savefig('chart2.png')"
   ]
  },
  {
   "cell_type": "markdown",
   "id": "172d444e-0661-4cf3-ba26-c5c1b2483149",
   "metadata": {},
   "source": [
    "### Writing SEQS and plots to PDF"
   ]
  },
  {
   "cell_type": "code",
   "execution_count": 30,
   "id": "bb6a5010-02ba-49e8-818e-e52f948436a5",
   "metadata": {},
   "outputs": [],
   "source": [
    "pdf = PDF(orientation='P', unit='mm', format='A4')"
   ]
  },
  {
   "cell_type": "code",
   "execution_count": 31,
   "id": "233d810e-df8f-4b56-b06d-12440888f3f3",
   "metadata": {},
   "outputs": [
    {
     "data": {
      "text/plain": [
       "''"
      ]
     },
     "execution_count": 31,
     "metadata": {},
     "output_type": "execute_result"
    }
   ],
   "source": [
    "pdf.add_page()\n",
    "pdf.lines()\n",
    "pdf.titles()\n",
    "pdf.charts('chart1.png',40.0,25.0)\n",
    "pdf.charts('chart2.png',40.0,100.0)\n",
    "pdf.add_page()\n",
    "pdf.texts('seqs.txt')\n",
    "pdf.output('out.pdf','F')"
   ]
  },
  {
   "cell_type": "code",
   "execution_count": null,
   "id": "57e817fc-c256-4b7b-a114-19863550a56b",
   "metadata": {},
   "outputs": [],
   "source": []
  }
 ],
 "metadata": {
  "kernelspec": {
   "display_name": "Python 3 (ipykernel)",
   "language": "python",
   "name": "python3"
  },
  "language_info": {
   "codemirror_mode": {
    "name": "ipython",
    "version": 3
   },
   "file_extension": ".py",
   "mimetype": "text/x-python",
   "name": "python",
   "nbconvert_exporter": "python",
   "pygments_lexer": "ipython3",
   "version": "3.9.7"
  }
 },
 "nbformat": 4,
 "nbformat_minor": 5
}
