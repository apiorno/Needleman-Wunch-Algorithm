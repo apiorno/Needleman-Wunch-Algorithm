{
 "cells": [
  {
   "cell_type": "markdown",
   "id": "3eb72859-ef8a-408e-85f0-5e2ecc93cc45",
   "metadata": {},
   "source": [
    "### _Nothing in Biology Makes Sense Except in the Light of Evolution_ \n",
    "###### Theodosius  Dobzhansky"
   ]
  },
  {
   "cell_type": "markdown",
   "id": "f5943cc5-283a-4c65-ab9b-da1c1d6e7a3e",
   "metadata": {},
   "source": [
    "# TP-1: alineamiento global con Needleman Wunsch"
   ]
  },
  {
   "cell_type": "markdown",
   "id": "bc428e08-5485-4cda-aa10-93aed3d23bb9",
   "metadata": {},
   "source": [
    "Escriba una implementación en Python del algoritmo de alineamiento global de Needleman-Wunsch, \n",
    "dentro de las 4 celdas indicadas más abajo."
   ]
  },
  {
   "cell_type": "markdown",
   "id": "46609fd4-21b1-4aa4-8943-c80bc8682402",
   "metadata": {},
   "source": [
    "El alineamiento entre las 2 secuencias de `ab.fasta` debe tener un score de 158 y\n",
    "el alineamiento entre las 2 secuencias de `ae.fasta` debe tener un score de 312."
   ]
  },
  {
   "cell_type": "markdown",
   "id": "4f7caba8-d6b8-4974-b5d9-4a423080f812",
   "metadata": {},
   "source": [
    "--------"
   ]
  },
  {
   "cell_type": "code",
   "execution_count": 1,
   "id": "ee825001-960d-40cf-ab39-f52136c5a73c",
   "metadata": {},
   "outputs": [],
   "source": [
    "import numpy as np\n",
    "from Bio import pairwise2, SeqIO\n",
    "from enum import Enum"
   ]
  },
  {
   "cell_type": "markdown",
   "id": "362cc50b-bbe1-478d-b3ff-38a0dae84688",
   "metadata": {},
   "source": [
    "## Needleman-Wunsch con BioPython"
   ]
  },
  {
   "cell_type": "code",
   "execution_count": 2,
   "id": "6906623c-e52b-4282-a8af-55b219f0a465",
   "metadata": {},
   "outputs": [
    {
     "data": {
      "text/plain": [
       "2.0"
      ]
     },
     "execution_count": 2,
     "metadata": {},
     "output_type": "execute_result"
    }
   ],
   "source": [
    "aln = pairwise2.align.globalxx(\"TATA\", \"TCT\")\n",
    "aln[0].score"
   ]
  },
  {
   "cell_type": "code",
   "execution_count": 46,
   "id": "beda6e12-3193-4475-b975-1f8375980bdb",
   "metadata": {},
   "outputs": [
    {
     "name": "stdout",
     "output_type": "stream",
     "text": [
      "TA-TA\n",
      "T-CT-\n"
     ]
    }
   ],
   "source": [
    "print(aln[0].seqA)\n",
    "print(aln[0].seqB)"
   ]
  },
  {
   "cell_type": "code",
   "execution_count": 15,
   "id": "b5aa3bd4-b5c6-4fda-a72a-94e8474ffd82",
   "metadata": {},
   "outputs": [
    {
     "data": {
      "text/plain": [
       "158.0"
      ]
     },
     "execution_count": 15,
     "metadata": {},
     "output_type": "execute_result"
    }
   ],
   "source": [
    "f_aln = SeqIO.parse(\"ab.fasta\", 'fasta')\n",
    "fas_A = next(f_aln)\n",
    "fas_B = next(f_aln)\n",
    "\n",
    "seq_A = str(fas_A.seq)\n",
    "seq_B = str(fas_B.seq)\n",
    "\n",
    "aln = pairwise2.align.globalxx(seq_A, seq_B)\n",
    "aln[0].score"
   ]
  },
  {
   "cell_type": "code",
   "execution_count": 16,
   "id": "2e9e4267-d5c7-421a-ae15-f5d2887bcd06",
   "metadata": {},
   "outputs": [
    {
     "name": "stdout",
     "output_type": "stream",
     "text": [
      "CGTCA-AAGATCTC-CAA-CCCGGGGACAGAGT-ACTGGCCGCGGATT-ACGACGGAA--ACCCGGTTTATACCGACTTCATCATGTTCAA-\n",
      "C-TC-CAA-AT-T-ACAATCCC---GAC--A-TTA-T-----C---TTTA--A-GG-ATGA---GG-----A--GA----A-CA----C--G\n"
     ]
    }
   ],
   "source": [
    "print(aln[0].seqA[300:])\n",
    "print(aln[0].seqB[300:])"
   ]
  },
  {
   "cell_type": "code",
   "execution_count": 17,
   "id": "d896571d-b600-4dde-9f80-e3d0992cfc13",
   "metadata": {},
   "outputs": [
    {
     "data": {
      "text/plain": [
       "312.0"
      ]
     },
     "execution_count": 17,
     "metadata": {},
     "output_type": "execute_result"
    }
   ],
   "source": [
    "f_aln = SeqIO.parse(\"ae.fasta\", 'fasta')\n",
    "fas_A = next(f_aln)\n",
    "fas_E = next(f_aln)\n",
    "\n",
    "seq_A = str(fas_A.seq)\n",
    "seq_E = str(fas_E.seq)\n",
    "\n",
    "aln = pairwise2.align.globalxx(seq_A, seq_E)\n",
    "aln[0].score"
   ]
  },
  {
   "cell_type": "code",
   "execution_count": 18,
   "id": "683ecea2-c211-4d24-b1f2-4d0af042f1b7",
   "metadata": {},
   "outputs": [
    {
     "name": "stdout",
     "output_type": "stream",
     "text": [
      "GGCCCG-TCAAAGATC-TCCAACCCGGG-GACAGAG-TAC-TGGCC-GCG-GATT-ACGA-CGGAAACCCGG-TTTAT-ACCGACTTCATCATGTTCAA\n",
      "GG--CGGTCAAAGA-CCTCCAACCC-GGCGACAG-GGT-CCTGG-CAGC-AGA-TGA-GAACGGAAACCC-GATTTA-CACCGAC-TC--C---TT---\n"
     ]
    }
   ],
   "source": [
    "print(aln[0].seqA[300:])\n",
    "print(aln[0].seqB[300:])"
   ]
  },
  {
   "cell_type": "markdown",
   "id": "4d828ab7-9fcf-4da1-93b6-ff9ebb2d4a90",
   "metadata": {},
   "source": [
    "------"
   ]
  },
  {
   "cell_type": "markdown",
   "id": "f8527011-c04c-4d74-8ffb-cd4b433565fa",
   "metadata": {},
   "source": [
    "## Needleman-Wunsch propio"
   ]
  },
  {
   "cell_type": "markdown",
   "id": "aa5c8e35-f268-4763-aedb-4cdb8052feec",
   "metadata": {},
   "source": [
    "#### Cosas q pueden ser útiles"
   ]
  },
  {
   "cell_type": "raw",
   "id": "e8bfe1e5-99c5-4bf6-a848-1d49a6c79dd7",
   "metadata": {},
   "source": [
    "# una forma de memoizar las operaciones.\n",
    "class op(Enum):\n",
    "    GAP_A = 1\n",
    "    GAP_B = 2\n",
    "    MA_MM = 3\n",
    "\n",
    "# tabla de numpy p/ hacer memoización\n",
    "tabla = np.repeat(0.0, (n) * (m)).reshape(n, m)\n",
    "\n",
    "# constructs\n",
    "for while, if\n",
    "\n",
    "# operaciones con listas y strings\n",
    "list.append(), list.pop(), list.reverse(), len(list)\n",
    "\n",
    "# te da una lista a partir de un array\n",
    "list(str) \n",
    "\n",
    "# te da un string a partir de una lista\n",
    "str().join(list) "
   ]
  },
  {
   "cell_type": "markdown",
   "id": "453d206e-93c2-426c-8ad8-355ac9bc150e",
   "metadata": {},
   "source": [
    "### 1\n",
    "`op` es un type que representa las 3 operaciones posibles en un alineamiento."
   ]
  },
  {
   "cell_type": "code",
   "execution_count": 4,
   "id": "e249f47b-690d-4829-854a-9e9fcf2b42f6",
   "metadata": {},
   "outputs": [],
   "source": [
    "class op(Enum):\n",
    "    GAP_A = 1\n",
    "    GAP_B = 2\n",
    "    MA_MM = 3"
   ]
  },
  {
   "cell_type": "markdown",
   "id": "da617a26-c3a3-4985-ad51-a3ddd8bd3d7c",
   "metadata": {},
   "source": [
    "### 2\n",
    "`score_mtx` contiene los scores de match y mismatch entre las distintas bases.\n",
    "Para reproducir el comportamiento de la función`pairwise2.align.globalxx()` de biopython\n",
    "asignaremos, por ahora, un score de `1` a cualquier match y `0` a cualquier otro match.\n",
    "\n",
    "El gap score irá por fuera de `score_mtx` y será, circunstancialmente, de `0`.\n",
    "\n",
    "`score_mtx` puede ser una lista de listas, `numpy.darray`, diccionario, o lo que crea conveniente."
   ]
  },
  {
   "cell_type": "code",
   "execution_count": 5,
   "id": "0672ae26-3a63-43fd-a749-b3e57635e2a6",
   "metadata": {},
   "outputs": [
    {
     "data": {
      "text/plain": [
       "array([[ 1, -1, -1, -1],\n",
       "       [-1,  1, -1, -1],\n",
       "       [-1, -1,  1, -1],\n",
       "       [-1, -1, -1,  1]])"
      ]
     },
     "execution_count": 5,
     "metadata": {},
     "output_type": "execute_result"
    }
   ],
   "source": [
    "score_mtx = np.repeat(-1, (4) * (4)).reshape(4, 4)\n",
    "for i in range(0,4):\n",
    "    score_mtx[i][i]=1\n",
    "score_mtx"
   ]
  },
  {
   "cell_type": "markdown",
   "id": "e3cbe568-52ef-49fa-809e-c524837bb951",
   "metadata": {},
   "source": [
    "### 3\n",
    "`traceback()` toma la tabla donde `nw()` memoizó los subproblemas (`tabla_sol`),\n",
    "las 2 secuencias originales (`seqA` y `seqB`) y entrega las 2 secuencias modificadas (`aln_a` y `aln_b`),\n",
    "que puestas una arriba de la otra, mostrarían un alineamiento correcto."
   ]
  },
  {
   "cell_type": "code",
   "execution_count": 90,
   "id": "0e628b92-b023-4a6b-9777-ef3afa7ffc3a",
   "metadata": {},
   "outputs": [],
   "source": [
    "def traceback(ops_matrix, seqA, seqB):\n",
    "    seqA_alineada = []\n",
    "    seqB_alineada = []\n",
    "    j = len(seqA) -1\n",
    "    i = len(seqB) -1\n",
    "    # Cosas\n",
    "    print(ops_matrix)\n",
    "    while i > 0 or j > 0:\n",
    "        if ops_matrix[i, j] == op.GAP_A.value:\n",
    "            print(\"GAP A\")\n",
    "            seqA_alineada.append(\"-\")\n",
    "            seqB_alineada.append(seqB[i])\n",
    "            # Cosas\n",
    "            j -= 1\n",
    "        elif ops_matrix[i, j] == op.GAP_B.value:\n",
    "            print(\"GAP B\")\n",
    "            seqB_alineada.append(\"-\")\n",
    "            seqA_alineada.append(seqA[j])\n",
    "            # Cosas\n",
    "            i -= 1\n",
    "        else: # es decir, match / mismatch\n",
    "            #\n",
    "            print(\"MATCH\")\n",
    " \n",
    "            i -= 1\n",
    "            j -= 1\n",
    "            seqA_alineada.append(seqA[j])\n",
    "            seqB_alineada.append(seqB[i])\n",
    "            \n",
    "            # Cosas\n",
    "    # Cosas, incluída la inversión del alineamiento, porque lo hicimos de atrás para adelante\n",
    "    seqA_alineada = seqA_alineada[::-1]\n",
    "    seqB_alineada = seqB_alineada[::-1]\n",
    "    return seqA_alineada, seqB_alineada # O puede ser un mismo objeto `alineamiento`, como te guste."
   ]
  },
  {
   "cell_type": "code",
   "execution_count": 91,
   "id": "695d380c-07db-4656-a79d-55917b1195e5",
   "metadata": {},
   "outputs": [
    {
     "name": "stdout",
     "output_type": "stream",
     "text": [
      "TA-TA\n",
      "T-CT-\n"
     ]
    }
   ],
   "source": [
    "print(aln[0].seqA)\n",
    "print(aln[0].seqB)"
   ]
  },
  {
   "cell_type": "code",
   "execution_count": 92,
   "id": "3238d283-ab2f-4e66-b575-008eedb56e59",
   "metadata": {},
   "outputs": [
    {
     "name": "stdout",
     "output_type": "stream",
     "text": [
      "[[0 0 0 0]\n",
      " [0 3 1 3]\n",
      " [0 2 1 1]\n",
      " [0 3 1 3]\n",
      " [0 2 1 2]]\n",
      "GAP A\n",
      "GAP A\n",
      "GAP B\n",
      "T\n",
      "A\n",
      "MATCH\n",
      "T\n",
      "T\n"
     ]
    },
    {
     "data": {
      "text/plain": [
       "([], [], 2)"
      ]
     },
     "execution_count": 92,
     "metadata": {},
     "output_type": "execute_result"
    }
   ],
   "source": [
    "nw(\"TATA\",\"TCT\",score_mtx,0)"
   ]
  },
  {
   "cell_type": "code",
   "execution_count": 42,
   "id": "0e0bf290",
   "metadata": {},
   "outputs": [],
   "source": [
    "def parseNucleotide(nucleotide):\n",
    "    switcher = {\n",
    "        'A': 0,\n",
    "        'T': 1,\n",
    "        'G': 2,\n",
    "        'C': 3\n",
    "    }\n",
    "    return switcher.get(nucleotide,\"Invalid nucleotide\")"
   ]
  },
  {
   "cell_type": "code",
   "execution_count": 43,
   "id": "80ea1e1b",
   "metadata": {},
   "outputs": [],
   "source": [
    "def get_score(score_mtx,characterA,characterB):\n",
    "        indexA = parseNucleotide(characterA)\n",
    "        indexB = parseNucleotide(characterB)\n",
    "        return score_mtx[indexA,indexB]"
   ]
  },
  {
   "cell_type": "markdown",
   "id": "a879d7d7-81b4-4a25-9a1b-0aa60beeb2ea",
   "metadata": {},
   "source": [
    "### 4\n",
    "`nw()` implementa el algoritmo de needleman-wunsch. Toma las 2 secuencias en formato de `str` (`seqA_str` y `seqB_str`),\n",
    "para igualar el comportamiento de `pairwise2.align.globalxx()`, la `score_mtx` y un `gap_score`.\n",
    "Debe llamar a `traceback()` para luego devolver las 2 secuencias alineadas y el score del alineamiento (último elemento de `tabla_score`)"
   ]
  },
  {
   "cell_type": "code",
   "execution_count": 83,
   "id": "724b7d68-722b-4e95-b788-2de3498cbb60",
   "metadata": {},
   "outputs": [],
   "source": [
    "def nw(seqA_str, seqB_str, score_mtx, gap_score = 0):\n",
    "    sizeA = len(seqA_str)\n",
    "    sizeB = len(seqB_str)\n",
    "    sol_matrix = np.repeat(0, (sizeA+1) * (sizeB+1)).reshape(sizeA+1, sizeB+1)\n",
    "    ops_matrix = np.repeat(0, (sizeA+1) * (sizeB+1)).reshape(sizeA+1, sizeB+1)\n",
    "    \n",
    "    for i in range(1,sizeA+1):\n",
    "        for j in range(1,sizeB+1):\n",
    "            \n",
    "            diagonal_score = get_score(score_mtx,seqA_str[i-1],seqB_str[j-1])\n",
    "            diagonal_result = sol_matrix[i-1][j-1] + diagonal_score\n",
    "            left_result = sol_matrix[i][j-1] + gap_score\n",
    "            above_result = sol_matrix[i-1][j] + gap_score\n",
    "            results = [diagonal_result,left_result,above_result]\n",
    "            result_index = np.argmax(results)\n",
    "            if result_index == 0:\n",
    "                sol_matrix[i][j] = diagonal_result\n",
    "                ops_matrix[i][j] = op.MA_MM.value\n",
    "            elif result_index == 1:\n",
    "                sol_matrix[i][j] = left_result\n",
    "                ops_matrix[i][j] = op.GAP_A.value\n",
    "            else:\n",
    "                sol_matrix[i][j] = above_result\n",
    "                ops_matrix[i][j] = op.GAP_B.value\n",
    "            #if diagonal_score == 1:\n",
    "                #sol_matrix[i][j] = diagonal_result\n",
    "                #ops_matrix[i][j] = op.MA_MM\n",
    "            #else:\n",
    "                #left_result = sol_matrix[i][j-1] + gap_score\n",
    "                #above_result = sol_matrix[i-1][j] + gap_score\n",
    "                #sol_matrix[i][j] = max(left_result,above_result, diagonal_result)  \n",
    "    #print(sol_matrix)\n",
    "    aln_a, aln_b = traceback(ops_matrix,seqA_str,seqB_str)\n",
    "\n",
    "    return aln_a, aln_b, sol_matrix[sizeA, sizeB]"
   ]
  },
  {
   "cell_type": "markdown",
   "id": "10337799-dff1-4e04-90c0-e736d06925d0",
   "metadata": {},
   "source": [
    "nw(\"TATA\",\"TCA\",score_mtx,0)"
   ]
  },
  {
   "cell_type": "code",
   "execution_count": 45,
   "id": "098d7ce0",
   "metadata": {},
   "outputs": [
    {
     "name": "stdout",
     "output_type": "stream",
     "text": [
      "[[0 0 0 0]\n",
      " [0 1 1 1]\n",
      " [0 1 1 1]\n",
      " [0 1 1 2]\n",
      " [0 1 1 2]]\n",
      "[[0 0 0 0]\n",
      " [0 3 1 3]\n",
      " [0 2 1 1]\n",
      " [0 3 1 3]\n",
      " [0 2 1 2]]\n",
      "GAP A\n",
      "T\n",
      "GAP A\n",
      "T\n",
      "GAP B\n",
      "A\n",
      "T\n",
      "GAP MA MM\n",
      "A\n",
      "A\n",
      "C\n",
      "C\n"
     ]
    },
    {
     "data": {
      "text/plain": [
       "(['A', 'T', '-', '-'], ['C', '-', 'T', 'T'], 2)"
      ]
     },
     "execution_count": 45,
     "metadata": {},
     "output_type": "execute_result"
    }
   ],
   "source": [
    "nw(\"TATA\",\"TCT\",score_mtx,0)"
   ]
  },
  {
   "cell_type": "markdown",
   "id": "cea85562-e460-4498-8d55-8c5115c0d7ce",
   "metadata": {},
   "source": [
    "## Pruebe su implementación"
   ]
  },
  {
   "cell_type": "code",
   "execution_count": null,
   "id": "9b36b8e0-6311-4dc5-a486-cda49011369f",
   "metadata": {},
   "outputs": [],
   "source": [
    "# Toma de input\n",
    "f_aln = SeqIO.parse(\"ab.fasta\", 'fasta')\n",
    "fas_A = next(f_aln)\n",
    "fas_B = next(f_aln)\n",
    "\n",
    "seq_A = str(fas_A.seq)\n",
    "seq_B = str(fas_B.seq)"
   ]
  },
  {
   "cell_type": "code",
   "execution_count": null,
   "id": "a066a1b6-58e3-400e-8962-6b6bd51c8b95",
   "metadata": {},
   "outputs": [],
   "source": [
    "# Confirme el score\n",
    "aln_a, aln_b, score = nw(seq_A, seq_B, score_mtx_1)\n",
    "score"
   ]
  },
  {
   "cell_type": "code",
   "execution_count": null,
   "id": "eb02b1ff-ba0b-4c24-b541-5416a824be18",
   "metadata": {},
   "outputs": [],
   "source": [
    "# Visualice el alineamiento. Recuerde que no es necesario que sea idéntico al de Biopython\n",
    "str_aln_a = str().join(aln_a)\n",
    "str_aln_b = str().join(aln_b)\n",
    "\n",
    "print(str_aln_a[300:])\n",
    "print(str_aln_b[300:])"
   ]
  },
  {
   "cell_type": "code",
   "execution_count": null,
   "id": "6b8959ef-3a74-409e-9bae-071398837a84",
   "metadata": {},
   "outputs": [],
   "source": [
    "# Toma de input\n",
    "f_aln = SeqIO.parse(\"ae.fasta\", 'fasta')\n",
    "fas_A = next(f_aln)\n",
    "fas_E = next(f_aln)\n",
    "\n",
    "seq_A = str(fas_A.seq)\n",
    "seq_E = str(fas_E.seq)"
   ]
  },
  {
   "cell_type": "code",
   "execution_count": null,
   "id": "6211c8f9-9dbc-442f-ae0e-bc4f34207f67",
   "metadata": {},
   "outputs": [],
   "source": [
    "# Confirme el score\n",
    "aln_a, aln_e, score = nw(seq_A, seq_E, score_mtx_1)\n",
    "score"
   ]
  },
  {
   "cell_type": "code",
   "execution_count": null,
   "id": "51aab4d0-f21c-41e8-83d2-fba14a1a5f8b",
   "metadata": {},
   "outputs": [],
   "source": [
    "# Visualice el alineamiento. Recuerde que no es necesario que sea idéntico al de Biopython\n",
    "str_aln_a = str().join(aln_a)\n",
    "str_aln_e = str().join(aln_e)\n",
    "\n",
    "print(str_aln_a[300:])\n",
    "print(str_aln_e[300:])"
   ]
  }
 ],
 "metadata": {
  "kernelspec": {
   "display_name": "Python 3 (ipykernel)",
   "language": "python",
   "name": "python3"
  },
  "language_info": {
   "codemirror_mode": {
    "name": "ipython",
    "version": 3
   },
   "file_extension": ".py",
   "mimetype": "text/x-python",
   "name": "python",
   "nbconvert_exporter": "python",
   "pygments_lexer": "ipython3",
   "version": "3.9.7"
  }
 },
 "nbformat": 4,
 "nbformat_minor": 5
}
