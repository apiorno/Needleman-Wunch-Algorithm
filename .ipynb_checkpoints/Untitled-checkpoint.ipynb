{
 "cells": [
  {
   "cell_type": "code",
   "execution_count": 5,
   "id": "b546c7a4-e7f8-4299-a23a-43bdd13a2f26",
   "metadata": {},
   "outputs": [],
   "source": [
    "import numpy as np\n",
    "from Bio import pairwise2, SeqIO\n",
    "from enum import Enum"
   ]
  },
  {
   "cell_type": "code",
   "execution_count": 2,
   "id": "9365f36b-0ef6-465e-b13f-f7ba21dd90b9",
   "metadata": {},
   "outputs": [
    {
     "data": {
      "text/plain": [
       "2.0"
      ]
     },
     "execution_count": 2,
     "metadata": {},
     "output_type": "execute_result"
    }
   ],
   "source": [
    "aln = pairwise2.align.globalxx(\"TATA\", \"TCT\")\n",
    "aln[0].score"
   ]
  },
  {
   "cell_type": "code",
   "execution_count": 3,
   "id": "39c24652-9edd-4712-95a7-0a24bee9adb9",
   "metadata": {},
   "outputs": [
    {
     "name": "stdout",
     "output_type": "stream",
     "text": [
      "TA-TA\n",
      "T-CT-\n"
     ]
    }
   ],
   "source": [
    "print(aln[0].seqA)\n",
    "print(aln[0].seqB)"
   ]
  },
  {
   "cell_type": "code",
   "execution_count": 6,
   "id": "23bb5a8f-def1-478e-b964-22cacd76e43d",
   "metadata": {},
   "outputs": [],
   "source": [
    "class op(Enum):\n",
    "    GAP_A = 1\n",
    "    GAP_B = 2\n",
    "    MA_MM = 3"
   ]
  },
  {
   "cell_type": "code",
   "execution_count": 7,
   "id": "fb7c062d-75db-492f-995f-414ea82bf85b",
   "metadata": {},
   "outputs": [
    {
     "data": {
      "text/plain": [
       "array([[ 1, -1, -1, -1],\n",
       "       [-1,  1, -1, -1],\n",
       "       [-1, -1,  1, -1],\n",
       "       [-1, -1, -1,  1]])"
      ]
     },
     "execution_count": 7,
     "metadata": {},
     "output_type": "execute_result"
    }
   ],
   "source": [
    "score_mtx = np.repeat(-1, (4) * (4)).reshape(4, 4)\n",
    "for i in range(0,4):\n",
    "    score_mtx[i][i]=1\n",
    "score_mtx"
   ]
  },
  {
   "cell_type": "code",
   "execution_count": 12,
   "id": "c8da55b1-644b-480a-919b-a2a9abb34696",
   "metadata": {},
   "outputs": [],
   "source": [
    "def traceback(ops_matrix, seqA, seqB):\n",
    "    seqA_alineada = []\n",
    "    seqB_alineada = []\n",
    "    i = len(seqA)\n",
    "    j = len(seqB)\n",
    "    indexA = i -1\n",
    "    indexB = j -1\n",
    "    # Cosas\n",
    "    print(ops_matrix)\n",
    "    while i > 0 or j > 0:\n",
    "        if ops_matrix[i, j] == op.GAP_A.value:\n",
    "            seqA_alineada.append(\"-\")\n",
    "            seqB_alineada.append(seqB[indexB])\n",
    "            indexB -=1\n",
    "            # Cosas\n",
    "            j -= 1\n",
    "        elif ops_matrix[i, j] == op.GAP_B.value:\n",
    "            seqB_alineada.append(\"-\")\n",
    "            seqA_alineada.append(seqA[indexA])\n",
    "            indexA -=1\n",
    "            # Cosas\n",
    "            i -= 1\n",
    "        else: # es decir, match / mismatch\n",
    "            #\n",
    " \n",
    "            i -= 1\n",
    "            j -= 1\n",
    "            seqA_alineada.append(seqA[indexA])\n",
    "            seqB_alineada.append(seqB[indexB])\n",
    "            indexB -=1\n",
    "            indexA -=1\n",
    "            \n",
    "            # Cosas\n",
    "    # Cosas, incluída la inversión del alineamiento, porque lo hicimos de atrás para adelante\n",
    "    seqA_alineada = seqA_alineada[::-1]\n",
    "    seqB_alineada = seqB_alineada[::-1]\n",
    "    return seqA_alineada, seqB_alineada # O puede ser un mismo objeto `alineamiento`, como te guste."
   ]
  },
  {
   "cell_type": "code",
   "execution_count": 27,
   "id": "889be97d-bee5-499d-8ff5-683cb7ef66b9",
   "metadata": {},
   "outputs": [
    {
     "name": "stdout",
     "output_type": "stream",
     "text": [
      "TA-TA\n",
      "T-CT-\n"
     ]
    }
   ],
   "source": [
    "print(aln[0].seqA)\n",
    "print(aln[0].seqB)"
   ]
  },
  {
   "cell_type": "code",
   "execution_count": 28,
   "id": "59414bc1-1718-47c0-b84f-053d2ae54674",
   "metadata": {},
   "outputs": [
    {
     "name": "stdout",
     "output_type": "stream",
     "text": [
      "[[0 0 0 0]\n",
      " [0 3 1 3]\n",
      " [0 2 1 1]\n",
      " [0 3 1 3]\n",
      " [0 2 1 2]]\n",
      "GAP A\n",
      "C\n",
      "C\n"
     ]
    },
    {
     "data": {
      "text/plain": [
       "(['T', 'A', '-', 'T', 'A'], ['T', '-', 'C', 'T', '-'], 2)"
      ]
     },
     "execution_count": 28,
     "metadata": {},
     "output_type": "execute_result"
    }
   ],
   "source": [
    "nw(\"TATA\",\"TCT\",score_mtx,0)"
   ]
  },
  {
   "cell_type": "code",
   "execution_count": 9,
   "id": "91d5e481-0fff-4e4c-881c-91a8c9d4f9a2",
   "metadata": {},
   "outputs": [],
   "source": [
    "def parseNucleotide(nucleotide):\n",
    "    switcher = {\n",
    "        'A': 0,\n",
    "        'T': 1,\n",
    "        'G': 2,\n",
    "        'C': 3\n",
    "    }\n",
    "    return switcher.get(nucleotide,\"Invalid nucleotide\")"
   ]
  },
  {
   "cell_type": "code",
   "execution_count": 10,
   "id": "de960ce1-133d-4c57-b56a-2ce9abaf959d",
   "metadata": {},
   "outputs": [],
   "source": [
    "def get_score(score_mtx,characterA,characterB):\n",
    "        indexA = parseNucleotide(characterA)\n",
    "        indexB = parseNucleotide(characterB)\n",
    "        return score_mtx[indexA,indexB]"
   ]
  },
  {
   "cell_type": "code",
   "execution_count": 9,
   "id": "aa8c6790-2faa-4ca9-8eba-35c782450ead",
   "metadata": {},
   "outputs": [],
   "source": [
    "def nw(seqA_str, seqB_str, score_mtx, gap_score = 0):\n",
    "    sizeA = len(seqA_str)\n",
    "    sizeB = len(seqB_str)\n",
    "    sol_matrix = np.repeat(0, (sizeA+1) * (sizeB+1)).reshape(sizeA+1, sizeB+1)\n",
    "    ops_matrix = np.repeat(0, (sizeA+1) * (sizeB+1)).reshape(sizeA+1, sizeB+1)\n",
    "    \n",
    "    for i in range(1,sizeA+1):\n",
    "        for j in range(1,sizeB+1):\n",
    "            \n",
    "            diagonal_score = get_score(score_mtx,seqA_str[i-1],seqB_str[j-1])\n",
    "            diagonal_result = sol_matrix[i-1][j-1] + diagonal_score\n",
    "            left_result = sol_matrix[i][j-1] + gap_score\n",
    "            above_result = sol_matrix[i-1][j] + gap_score\n",
    "            results = [diagonal_result,left_result,above_result]\n",
    "            result_index = np.argmax(results)\n",
    "            if result_index == 0:\n",
    "                sol_matrix[i][j] = diagonal_result\n",
    "                ops_matrix[i][j] = op.MA_MM.value\n",
    "            elif result_index == 1:\n",
    "                sol_matrix[i][j] = left_result\n",
    "                ops_matrix[i][j] = op.GAP_A.value\n",
    "            else:\n",
    "                sol_matrix[i][j] = above_result\n",
    "                ops_matrix[i][j] = op.GAP_B.value\n",
    "\n",
    "    aln_a, aln_b = traceback(ops_matrix,seqA_str,seqB_str)\n",
    "\n",
    "    return aln_a, aln_b, sol_matrix[sizeA, sizeB]"
   ]
  },
  {
   "cell_type": "code",
   "execution_count": 10,
   "id": "befaa2e6-d549-4778-ab9c-edde74076f4c",
   "metadata": {},
   "outputs": [
    {
     "name": "stdout",
     "output_type": "stream",
     "text": [
      "[[0 0 0 0]\n",
      " [0 3 1 3]\n",
      " [0 2 1 1]\n",
      " [0 3 1 3]\n",
      " [0 2 1 2]]\n",
      "GAP A\n",
      "GAP A\n",
      "GAP B\n",
      "MATCH\n"
     ]
    },
    {
     "data": {
      "text/plain": [
       "(['T', 'A', '-', '-'], ['T', '-', 'T', 'T'], 2)"
      ]
     },
     "execution_count": 10,
     "metadata": {},
     "output_type": "execute_result"
    }
   ],
   "source": [
    "nw(\"TATA\",\"TCT\",score_mtx,0)"
   ]
  },
  {
   "cell_type": "code",
   "execution_count": 33,
   "id": "03e56894-fa81-4f60-93b0-7d0d3fb97000",
   "metadata": {},
   "outputs": [],
   "source": [
    "# Toma de input\n",
    "f_aln = SeqIO.parse(\"ab.fasta\", 'fasta')\n",
    "fas_A = next(f_aln)\n",
    "fas_B = next(f_aln)\n",
    "\n",
    "seq_A = str(fas_A.seq)\n",
    "seq_B = str(fas_B.seq)"
   ]
  },
  {
   "cell_type": "code",
   "execution_count": 34,
   "id": "5dac25a5-28c4-4b33-83fa-294ac4467895",
   "metadata": {},
   "outputs": [
    {
     "name": "stdout",
     "output_type": "stream",
     "text": [
      "[[0 0 0 ... 0 0 0]\n",
      " [0 1 1 ... 1 1 3]\n",
      " [0 3 1 ... 1 3 1]\n",
      " ...\n",
      " [0 3 2 ... 2 3 1]\n",
      " [0 2 2 ... 3 2 1]\n",
      " [0 2 2 ... 3 2 1]]\n"
     ]
    },
    {
     "data": {
      "text/plain": [
       "158"
      ]
     },
     "execution_count": 34,
     "metadata": {},
     "output_type": "execute_result"
    }
   ],
   "source": [
    "# Confirme el score\n",
    "aln_a, aln_b, score = nw(seq_A, seq_B, score_mtx)\n",
    "score"
   ]
  },
  {
   "cell_type": "code",
   "execution_count": 35,
   "id": "0905cb2f-f81d-4661-9509-3dbec38b8097",
   "metadata": {},
   "outputs": [
    {
     "name": "stdout",
     "output_type": "stream",
     "text": [
      "CGTCA-AAGATCTC-CAA-CCCGGGGACAGAG-TACTGGCCGCGGA-TTACGACGGAA--ACCCGGTTTATACCGACTTCATCATGTTCAA-\n",
      "C-TC-CAA-AT-T-ACAATCCC---GAC--A-TTA-T-----C---TTTA--A-GG-ATGA---GG-----A--GA----A-CA----C--G\n"
     ]
    }
   ],
   "source": [
    "# Visualice el alineamiento. Recuerde que no es necesario que sea idéntico al de Biopython\n",
    "str_aln_a = str().join(aln_a)\n",
    "str_aln_b = str().join(aln_b)\n",
    "\n",
    "print(str_aln_a[300:])\n",
    "print(str_aln_b[300:])"
   ]
  },
  {
   "cell_type": "code",
   "execution_count": 36,
   "id": "451003dd-dc50-4a6e-987e-7df8a8fd7621",
   "metadata": {},
   "outputs": [],
   "source": [
    "# Toma de input\n",
    "f_aln = SeqIO.parse(\"ae.fasta\", 'fasta')\n",
    "fas_A = next(f_aln)\n",
    "fas_E = next(f_aln)\n",
    "\n",
    "seq_A = str(fas_A.seq)\n",
    "seq_E = str(fas_E.seq)"
   ]
  },
  {
   "cell_type": "code",
   "execution_count": 38,
   "id": "83e4758c-e5bb-43aa-b0c2-532a578cf5bd",
   "metadata": {},
   "outputs": [
    {
     "name": "stdout",
     "output_type": "stream",
     "text": [
      "[[0 0 0 ... 0 0 0]\n",
      " [0 3 1 ... 1 1 1]\n",
      " [0 2 3 ... 3 1 1]\n",
      " ...\n",
      " [0 2 3 ... 3 2 2]\n",
      " [0 2 2 ... 2 2 2]\n",
      " [0 2 2 ... 2 2 2]]\n"
     ]
    },
    {
     "data": {
      "text/plain": [
       "312"
      ]
     },
     "execution_count": 38,
     "metadata": {},
     "output_type": "execute_result"
    }
   ],
   "source": [
    "# Confirme el score\n",
    "aln_a, aln_e, score = nw(seq_A, seq_E, score_mtx)\n",
    "score"
   ]
  },
  {
   "cell_type": "code",
   "execution_count": 39,
   "id": "ed132ebe-ee09-416f-9106-36a9a1a963b7",
   "metadata": {},
   "outputs": [
    {
     "name": "stdout",
     "output_type": "stream",
     "text": [
      "GGCCC-GTCAAAGAT-CTCCAACCCGGG-GACAGA-GTA-CTGGCC-GCG-GATT-ACG-ACGGAAACCCGG-TTTAT-ACCGACTTCATCATGTTCAA\n",
      "GG--CGGTCAAAGA-CCTCCAACCC-GGCGACAG-GGT-CCTGG-CAGC-AGA-TGA-GAACGGAAACCC-GATTTA-CACCGAC-TC--C---TT---\n"
     ]
    }
   ],
   "source": [
    "# Visualice el alineamiento. Recuerde que no es necesario que sea idéntico al de Biopython\n",
    "str_aln_a = str().join(aln_a)\n",
    "str_aln_e = str().join(aln_e)\n",
    "\n",
    "print(str_aln_a[300:])\n",
    "print(str_aln_e[300:])"
   ]
  },
  {
   "cell_type": "code",
   "execution_count": 37,
   "id": "ad9de732-289a-4bb5-a508-59c7c739fc2f",
   "metadata": {},
   "outputs": [],
   "source": [
    "class Profile:\n",
    "    def __init__(self,score_matrix,gap_score):\n",
    "        self.alignment_dashboard = {}\n",
    "        self.score_matrix = score_matrix\n",
    "        self.gap_score = gap_score\n",
    "        self.scores={}\n",
    "        \n",
    "    def score(self):\n",
    "        return sum(self.scores.values())\n",
    "    \n",
    "    def align(self,aligned_sequense):\n",
    "        for index in range(len(aligned_sequense)-1):\n",
    "            \n",
    "            try:\n",
    "                actual_profiled_section = self.alignment_dashboard[index]\n",
    "            except KeyError:\n",
    "                actual_profiled_section = {}\n",
    "                self.alignment_dashboard[index] = actual_profiled_section\n",
    "            actual_character = aligned_sequense[index]\n",
    "            self.calculate_score(index,actual_profiled_section,actual_character)\n",
    "            try:\n",
    "                actual_charater_count = actual_profiled_section[actual_character]\n",
    "            except KeyError:\n",
    "                actual_charater_count = 0\n",
    "                actual_profiled_section[actual_character] = actual_charater_count + 1\n",
    "            \n",
    "    def calculate_score(self,index,actual_profiled_section,nucleotide):\n",
    "        total = sum(actual_profiled_section.values())\n",
    "        partial_score = 0\n",
    "        for letter in actual_profiled_section.keys():\n",
    "            percentage = actual_profiled_section[letter] / total\n",
    "            partial_score += (percentage * self.relative_score(nucleotide,letter))\n",
    "        self.scores[index] = partial_score\n",
    "        \n",
    "    def relative_score(self,a_nucleotide, another_nucleotide):\n",
    "        if a_nucleotide == \"-\" or another_nucleotide == \"-\":\n",
    "            return self.gap_score\n",
    "        return get_score(self.score_matrix,a_nucleotide,another_nucleotide)"
   ]
  },
  {
   "cell_type": "code",
   "execution_count": 38,
   "id": "be7e060a-e80b-47e6-859f-35053b246181",
   "metadata": {},
   "outputs": [],
   "source": [
    "def nw2(seqA_str, seqB_str, score_mtx, gap_score = 0):\n",
    "    sizeA = len(seqA_str)\n",
    "    sizeB = len(seqB_str)\n",
    "    sol_matrix = np.repeat(0, (sizeA+1) * (sizeB+1)).reshape(sizeA+1, sizeB+1)\n",
    "    ops_matrix = np.repeat(0, (sizeA+1) * (sizeB+1)).reshape(sizeA+1, sizeB+1)\n",
    "    \n",
    "    for i in range(1,sizeA+1):\n",
    "        for j in range(1,sizeB+1):\n",
    "            \n",
    "            diagonal_score = get_score(score_mtx,seqA_str[i-1],seqB_str[j-1])\n",
    "            diagonal_result = sol_matrix[i-1][j-1] + diagonal_score\n",
    "            left_result = sol_matrix[i][j-1] + gap_score\n",
    "            above_result = sol_matrix[i-1][j] + gap_score\n",
    "            results = [diagonal_result,left_result,above_result]\n",
    "            result_index = np.argmax(results)\n",
    "            if result_index == 0:\n",
    "                sol_matrix[i][j] = diagonal_result\n",
    "                ops_matrix[i][j] = op.MA_MM.value\n",
    "            elif result_index == 1:\n",
    "                sol_matrix[i][j] = left_result\n",
    "                ops_matrix[i][j] = op.GAP_A.value\n",
    "            else:\n",
    "                sol_matrix[i][j] = above_result\n",
    "                ops_matrix[i][j] = op.GAP_B.value\n",
    "\n",
    "    aln_a, aln_b = traceback(ops_matrix,seqA_str,seqB_str)\n",
    "    profile = Profile(score_mtx,gap_score)\n",
    "    profile.align(aln_a)\n",
    "    profile.align(aln_b)\n",
    "    return profile"
   ]
  },
  {
   "cell_type": "code",
   "execution_count": 40,
   "id": "9daf30f8-8382-4126-a8ea-5a7322640d9e",
   "metadata": {},
   "outputs": [
    {
     "name": "stdout",
     "output_type": "stream",
     "text": [
      "[[0 0 0 0]\n",
      " [0 3 1 3]\n",
      " [0 2 1 1]\n",
      " [0 3 1 3]\n",
      " [0 2 1 2]]\n",
      "T\n",
      "T\n",
      "-\n",
      "A\n",
      "C\n",
      "-\n",
      "T\n",
      "T\n"
     ]
    }
   ],
   "source": [
    "p=nw2(\"TATA\",\"TCT\",score_mtx,0)"
   ]
  },
  {
   "cell_type": "code",
   "execution_count": 42,
   "id": "3822aa90-610c-40c3-9c19-2938e597b6a7",
   "metadata": {},
   "outputs": [
    {
     "data": {
      "text/plain": [
       "2.0"
      ]
     },
     "execution_count": 42,
     "metadata": {},
     "output_type": "execute_result"
    }
   ],
   "source": [
    "p.score()"
   ]
  },
  {
   "cell_type": "code",
   "execution_count": 45,
   "id": "08f33aa1-4f08-499b-be02-635b5a4bc3af",
   "metadata": {},
   "outputs": [],
   "source": [
    "def nw3(seqs,score_mtx, gap_score = 0):\n",
    "    if len(seqs) == 1 or len(seqs) == 0:\n",
    "        return\n",
    "    seq_a = seqs.pop()\n",
    "    seq_b = seqs.pop()\n",
    "    profile = nw2(seq_a,seq_b,score_mtx, gap_score)\n",
    "    for seq in seqs:\n",
    "        profile.align(seq)\n",
    "    return profile\n",
    "    "
   ]
  },
  {
   "cell_type": "code",
   "execution_count": 46,
   "id": "938d0dea-09bd-419d-af0e-e789afe637cc",
   "metadata": {},
   "outputs": [],
   "source": [
    "seqs = [\"TATA\",\"TCT\",\"TATT\",\"TCCA\"]"
   ]
  },
  {
   "cell_type": "code",
   "execution_count": 47,
   "id": "879d492f-562f-486f-b8a3-b9e8400878ba",
   "metadata": {},
   "outputs": [
    {
     "name": "stdout",
     "output_type": "stream",
     "text": [
      "[[0 0 0 0 0]\n",
      " [0 3 1 3 3]\n",
      " [0 2 1 1 1]\n",
      " [0 2 1 1 1]\n",
      " [0 2 3 1 1]]\n",
      "T\n",
      "T\n",
      "-\n",
      "C\n",
      "-\n",
      "C\n",
      "A\n",
      "A\n",
      "T\n",
      "-\n",
      "T\n",
      "T\n",
      "A\n",
      "C\n",
      "A\n",
      "-\n",
      "T\n",
      "C\n",
      "T\n",
      "-\n",
      "T\n",
      "T\n",
      "C\n",
      "C\n",
      "C\n",
      "-\n",
      "C\n",
      "A\n"
     ]
    }
   ],
   "source": [
    "p=nw3(seqs,score_mtx,0)"
   ]
  },
  {
   "cell_type": "code",
   "execution_count": 49,
   "id": "fcfc515f-dc92-4ced-8b19-102b42ddc415",
   "metadata": {},
   "outputs": [
    {
     "data": {
      "text/plain": [
       "1.5"
      ]
     },
     "execution_count": 49,
     "metadata": {},
     "output_type": "execute_result"
    }
   ],
   "source": [
    "p.score()"
   ]
  },
  {
   "cell_type": "code",
   "execution_count": null,
   "id": "444490ee-5ca0-497b-9504-a831dafc0c7a",
   "metadata": {},
   "outputs": [],
   "source": []
  }
 ],
 "metadata": {
  "kernelspec": {
   "display_name": "Python 3 (ipykernel)",
   "language": "python",
   "name": "python3"
  },
  "language_info": {
   "codemirror_mode": {
    "name": "ipython",
    "version": 3
   },
   "file_extension": ".py",
   "mimetype": "text/x-python",
   "name": "python",
   "nbconvert_exporter": "python",
   "pygments_lexer": "ipython3",
   "version": "3.9.7"
  }
 },
 "nbformat": 4,
 "nbformat_minor": 5
}
